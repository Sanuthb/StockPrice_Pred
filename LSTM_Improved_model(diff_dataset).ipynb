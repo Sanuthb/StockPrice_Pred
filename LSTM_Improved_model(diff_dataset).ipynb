{
 "cells": [
  {
   "cell_type": "markdown",
   "id": "yrU0iWdalVGx",
   "metadata": {
    "id": "yrU0iWdalVGx"
   },
   "source": [
    "# Import all the required libraries\n",
    "\n",
    "---\n",
    "\n"
   ]
  },
  {
   "cell_type": "code",
   "execution_count": 54,
   "id": "62354ecd",
   "metadata": {},
   "outputs": [
    {
     "name": "stdout",
     "output_type": "stream",
     "text": [
      "^C\n",
      "Note: you may need to restart the kernel to use updated packages.\n"
     ]
    }
   ],
   "source": [
    "pip install pandas matplotlib yfinance numpy tensorflow\n"
   ]
  },
  {
   "cell_type": "code",
   "execution_count": null,
   "id": "4189cf86",
   "metadata": {
    "id": "4189cf86",
    "scrolled": false
   },
   "outputs": [],
   "source": [
    "import pandas as pd\n",
    "import datetime as dt\n",
    "from datetime import date\n",
    "import matplotlib.pyplot as plt\n",
    "import yfinance as yf\n",
    "import numpy as np\n",
    "import tensorflow as tf"
   ]
  },
  {
   "cell_type": "markdown",
   "id": "Nij98iZElfyQ",
   "metadata": {
    "id": "Nij98iZElfyQ"
   },
   "source": [
    "# Define start day to fetch the dataset from the yahoo finance library\n",
    "\n",
    "---\n",
    "\n"
   ]
  },
  {
   "cell_type": "code",
   "execution_count": null,
   "id": "d20a4c49",
   "metadata": {
    "id": "d20a4c49",
    "scrolled": false
   },
   "outputs": [],
   "source": [
    "\n",
    "\n",
    "START = \"2010-01-01\"\n",
    "TODAY = date.today().strftime(\"%Y-%m-%d\")\n",
    "\n",
    "# Define a function to load the dataset\n",
    "\n",
    "def load_data(ticker):\n",
    "    data = yf.download(ticker, START, TODAY)\n",
    "    data.reset_index(inplace=True)\n",
    "    return data"
   ]
  },
  {
   "cell_type": "code",
   "execution_count": null,
   "id": "c5f71e4e",
   "metadata": {
    "colab": {
     "base_uri": "https://localhost:8080/",
     "height": 224
    },
    "id": "c5f71e4e",
    "outputId": "047bd0e5-7e20-4d32-8d6f-0a0c1c5a2983"
   },
   "outputs": [
    {
     "name": "stderr",
     "output_type": "stream",
     "text": [
      "[*********************100%***********************]  1 of 1 completed\n"
     ]
    },
    {
     "data": {
      "text/html": [
       "<div>\n",
       "<style scoped>\n",
       "    .dataframe tbody tr th:only-of-type {\n",
       "        vertical-align: middle;\n",
       "    }\n",
       "\n",
       "    .dataframe tbody tr th {\n",
       "        vertical-align: top;\n",
       "    }\n",
       "\n",
       "    .dataframe thead tr th {\n",
       "        text-align: left;\n",
       "    }\n",
       "</style>\n",
       "<table border=\"1\" class=\"dataframe\">\n",
       "  <thead>\n",
       "    <tr>\n",
       "      <th>Price</th>\n",
       "      <th>Date</th>\n",
       "      <th>Adj Close</th>\n",
       "      <th>Close</th>\n",
       "      <th>High</th>\n",
       "      <th>Low</th>\n",
       "      <th>Open</th>\n",
       "      <th>Volume</th>\n",
       "    </tr>\n",
       "    <tr>\n",
       "      <th>Ticker</th>\n",
       "      <th></th>\n",
       "      <th>TCS.NS</th>\n",
       "      <th>TCS.NS</th>\n",
       "      <th>TCS.NS</th>\n",
       "      <th>TCS.NS</th>\n",
       "      <th>TCS.NS</th>\n",
       "      <th>TCS.NS</th>\n",
       "    </tr>\n",
       "  </thead>\n",
       "  <tbody>\n",
       "    <tr>\n",
       "      <th>0</th>\n",
       "      <td>2010-01-04 00:00:00+00:00</td>\n",
       "      <td>287.620789</td>\n",
       "      <td>375.825012</td>\n",
       "      <td>379.450012</td>\n",
       "      <td>374.524994</td>\n",
       "      <td>377.399994</td>\n",
       "      <td>1963682</td>\n",
       "    </tr>\n",
       "    <tr>\n",
       "      <th>1</th>\n",
       "      <td>2010-01-05 00:00:00+00:00</td>\n",
       "      <td>287.697388</td>\n",
       "      <td>375.924988</td>\n",
       "      <td>379.774994</td>\n",
       "      <td>373.274994</td>\n",
       "      <td>377.500000</td>\n",
       "      <td>2014488</td>\n",
       "    </tr>\n",
       "    <tr>\n",
       "      <th>2</th>\n",
       "      <td>2010-01-06 00:00:00+00:00</td>\n",
       "      <td>281.192322</td>\n",
       "      <td>367.424988</td>\n",
       "      <td>376.100006</td>\n",
       "      <td>366.500000</td>\n",
       "      <td>375.924988</td>\n",
       "      <td>3349176</td>\n",
       "    </tr>\n",
       "    <tr>\n",
       "      <th>3</th>\n",
       "      <td>2010-01-07 00:00:00+00:00</td>\n",
       "      <td>273.367096</td>\n",
       "      <td>357.200012</td>\n",
       "      <td>369.700012</td>\n",
       "      <td>355.500000</td>\n",
       "      <td>367.750000</td>\n",
       "      <td>6474892</td>\n",
       "    </tr>\n",
       "    <tr>\n",
       "      <th>4</th>\n",
       "      <td>2010-01-08 00:00:00+00:00</td>\n",
       "      <td>267.780396</td>\n",
       "      <td>349.899994</td>\n",
       "      <td>359.250000</td>\n",
       "      <td>348.250000</td>\n",
       "      <td>358.000000</td>\n",
       "      <td>6048178</td>\n",
       "    </tr>\n",
       "  </tbody>\n",
       "</table>\n",
       "</div>"
      ],
      "text/plain": [
       "Price                       Date   Adj Close       Close        High  \\\n",
       "Ticker                                TCS.NS      TCS.NS      TCS.NS   \n",
       "0      2010-01-04 00:00:00+00:00  287.620789  375.825012  379.450012   \n",
       "1      2010-01-05 00:00:00+00:00  287.697388  375.924988  379.774994   \n",
       "2      2010-01-06 00:00:00+00:00  281.192322  367.424988  376.100006   \n",
       "3      2010-01-07 00:00:00+00:00  273.367096  357.200012  369.700012   \n",
       "4      2010-01-08 00:00:00+00:00  267.780396  349.899994  359.250000   \n",
       "\n",
       "Price          Low        Open   Volume  \n",
       "Ticker      TCS.NS      TCS.NS   TCS.NS  \n",
       "0       374.524994  377.399994  1963682  \n",
       "1       373.274994  377.500000  2014488  \n",
       "2       366.500000  375.924988  3349176  \n",
       "3       355.500000  367.750000  6474892  \n",
       "4       348.250000  358.000000  6048178  "
      ]
     },
     "execution_count": 7,
     "metadata": {},
     "output_type": "execute_result"
    }
   ],
   "source": [
    "data = load_data('TCS.NS')\n",
    "df=data\n",
    "df.head()"
   ]
  },
  {
   "cell_type": "code",
   "execution_count": null,
   "id": "c7ec39e4",
   "metadata": {
    "colab": {
     "base_uri": "https://localhost:8080/",
     "height": 206
    },
    "id": "c7ec39e4",
    "outputId": "96670f67-4c6a-40fc-b065-a7820a2f9f46"
   },
   "outputs": [
    {
     "name": "stderr",
     "output_type": "stream",
     "text": [
      "C:\\Users\\sanut\\AppData\\Local\\Temp\\ipykernel_8820\\1616842492.py:1: PerformanceWarning: dropping on a non-lexsorted multi-index without a level parameter may impact performance.\n",
      "  df = df.drop(['Date', 'Adj Close'], axis = 1)\n"
     ]
    },
    {
     "data": {
      "text/html": [
       "<div>\n",
       "<style scoped>\n",
       "    .dataframe tbody tr th:only-of-type {\n",
       "        vertical-align: middle;\n",
       "    }\n",
       "\n",
       "    .dataframe tbody tr th {\n",
       "        vertical-align: top;\n",
       "    }\n",
       "\n",
       "    .dataframe thead tr th {\n",
       "        text-align: left;\n",
       "    }\n",
       "</style>\n",
       "<table border=\"1\" class=\"dataframe\">\n",
       "  <thead>\n",
       "    <tr>\n",
       "      <th>Price</th>\n",
       "      <th>Close</th>\n",
       "      <th>High</th>\n",
       "      <th>Low</th>\n",
       "      <th>Open</th>\n",
       "      <th>Volume</th>\n",
       "    </tr>\n",
       "    <tr>\n",
       "      <th>Ticker</th>\n",
       "      <th>TCS.NS</th>\n",
       "      <th>TCS.NS</th>\n",
       "      <th>TCS.NS</th>\n",
       "      <th>TCS.NS</th>\n",
       "      <th>TCS.NS</th>\n",
       "    </tr>\n",
       "  </thead>\n",
       "  <tbody>\n",
       "    <tr>\n",
       "      <th>0</th>\n",
       "      <td>375.825012</td>\n",
       "      <td>379.450012</td>\n",
       "      <td>374.524994</td>\n",
       "      <td>377.399994</td>\n",
       "      <td>1963682</td>\n",
       "    </tr>\n",
       "    <tr>\n",
       "      <th>1</th>\n",
       "      <td>375.924988</td>\n",
       "      <td>379.774994</td>\n",
       "      <td>373.274994</td>\n",
       "      <td>377.500000</td>\n",
       "      <td>2014488</td>\n",
       "    </tr>\n",
       "    <tr>\n",
       "      <th>2</th>\n",
       "      <td>367.424988</td>\n",
       "      <td>376.100006</td>\n",
       "      <td>366.500000</td>\n",
       "      <td>375.924988</td>\n",
       "      <td>3349176</td>\n",
       "    </tr>\n",
       "    <tr>\n",
       "      <th>3</th>\n",
       "      <td>357.200012</td>\n",
       "      <td>369.700012</td>\n",
       "      <td>355.500000</td>\n",
       "      <td>367.750000</td>\n",
       "      <td>6474892</td>\n",
       "    </tr>\n",
       "    <tr>\n",
       "      <th>4</th>\n",
       "      <td>349.899994</td>\n",
       "      <td>359.250000</td>\n",
       "      <td>348.250000</td>\n",
       "      <td>358.000000</td>\n",
       "      <td>6048178</td>\n",
       "    </tr>\n",
       "  </tbody>\n",
       "</table>\n",
       "</div>"
      ],
      "text/plain": [
       "Price        Close        High         Low        Open   Volume\n",
       "Ticker      TCS.NS      TCS.NS      TCS.NS      TCS.NS   TCS.NS\n",
       "0       375.825012  379.450012  374.524994  377.399994  1963682\n",
       "1       375.924988  379.774994  373.274994  377.500000  2014488\n",
       "2       367.424988  376.100006  366.500000  375.924988  3349176\n",
       "3       357.200012  369.700012  355.500000  367.750000  6474892\n",
       "4       349.899994  359.250000  348.250000  358.000000  6048178"
      ]
     },
     "execution_count": 8,
     "metadata": {},
     "output_type": "execute_result"
    }
   ],
   "source": [
    "df = df.drop(['Date', 'Adj Close'], axis = 1)\n",
    "df.head()"
   ]
  },
  {
   "cell_type": "markdown",
   "id": "M-ojrPeXOxPq",
   "metadata": {
    "id": "M-ojrPeXOxPq"
   },
   "source": [
    "Visualizing Closing Price"
   ]
  },
  {
   "cell_type": "code",
   "execution_count": null,
   "id": "DCvdjb9gOhar",
   "metadata": {
    "colab": {
     "base_uri": "https://localhost:8080/",
     "height": 564
    },
    "id": "DCvdjb9gOhar",
    "outputId": "313d9fe1-80f9-43a6-a204-1051f9acd959"
   },
   "outputs": [
    {
     "data": {
      "image/png": "[encoded data removed]",
      "text/plain": [
       "<Figure size 1200x600 with 1 Axes>"
      ]
     },
     "metadata": {},
     "output_type": "display_data"
    }
   ],
   "source": [
    "plt.figure(figsize=(12, 6))\n",
    "plt.plot(df['Close'])\n",
    "plt.title(\"TCS India Stock Price\")\n",
    "plt.xlabel(\"Date\")\n",
    "plt.ylabel(\"Price (INR)\")\n",
    "plt.grid(True)\n",
    "plt.show()"
   ]
  },
  {
   "cell_type": "code",
   "execution_count": null,
   "id": "73888072",
   "metadata": {
    "colab": {
     "base_uri": "https://localhost:8080/",
     "height": 424
    },
    "id": "73888072",
    "outputId": "c3ff127c-8c35-4bb6-a18d-a7880266b57f"
   },
   "outputs": [
    {
     "data": {
      "text/html": [
       "<div>\n",
       "<style scoped>\n",
       "    .dataframe tbody tr th:only-of-type {\n",
       "        vertical-align: middle;\n",
       "    }\n",
       "\n",
       "    .dataframe tbody tr th {\n",
       "        vertical-align: top;\n",
       "    }\n",
       "\n",
       "    .dataframe thead tr th {\n",
       "        text-align: left;\n",
       "    }\n",
       "</style>\n",
       "<table border=\"1\" class=\"dataframe\">\n",
       "  <thead>\n",
       "    <tr>\n",
       "      <th>Price</th>\n",
       "      <th>Close</th>\n",
       "      <th>High</th>\n",
       "      <th>Low</th>\n",
       "      <th>Open</th>\n",
       "      <th>Volume</th>\n",
       "    </tr>\n",
       "    <tr>\n",
       "      <th>Ticker</th>\n",
       "      <th>TCS.NS</th>\n",
       "      <th>TCS.NS</th>\n",
       "      <th>TCS.NS</th>\n",
       "      <th>TCS.NS</th>\n",
       "      <th>TCS.NS</th>\n",
       "    </tr>\n",
       "  </thead>\n",
       "  <tbody>\n",
       "    <tr>\n",
       "      <th>0</th>\n",
       "      <td>375.825012</td>\n",
       "      <td>379.450012</td>\n",
       "      <td>374.524994</td>\n",
       "      <td>377.399994</td>\n",
       "      <td>1963682</td>\n",
       "    </tr>\n",
       "    <tr>\n",
       "      <th>1</th>\n",
       "      <td>375.924988</td>\n",
       "      <td>379.774994</td>\n",
       "      <td>373.274994</td>\n",
       "      <td>377.500000</td>\n",
       "      <td>2014488</td>\n",
       "    </tr>\n",
       "    <tr>\n",
       "      <th>2</th>\n",
       "      <td>367.424988</td>\n",
       "      <td>376.100006</td>\n",
       "      <td>366.500000</td>\n",
       "      <td>375.924988</td>\n",
       "      <td>3349176</td>\n",
       "    </tr>\n",
       "    <tr>\n",
       "      <th>3</th>\n",
       "      <td>357.200012</td>\n",
       "      <td>369.700012</td>\n",
       "      <td>355.500000</td>\n",
       "      <td>367.750000</td>\n",
       "      <td>6474892</td>\n",
       "    </tr>\n",
       "    <tr>\n",
       "      <th>4</th>\n",
       "      <td>349.899994</td>\n",
       "      <td>359.250000</td>\n",
       "      <td>348.250000</td>\n",
       "      <td>358.000000</td>\n",
       "      <td>6048178</td>\n",
       "    </tr>\n",
       "    <tr>\n",
       "      <th>...</th>\n",
       "      <td>...</td>\n",
       "      <td>...</td>\n",
       "      <td>...</td>\n",
       "      <td>...</td>\n",
       "      <td>...</td>\n",
       "    </tr>\n",
       "    <tr>\n",
       "      <th>3664</th>\n",
       "      <td>4150.899902</td>\n",
       "      <td>4205.799805</td>\n",
       "      <td>4085.050049</td>\n",
       "      <td>4169.700195</td>\n",
       "      <td>3724349</td>\n",
       "    </tr>\n",
       "    <tr>\n",
       "      <th>3665</th>\n",
       "      <td>4147.000000</td>\n",
       "      <td>4169.750000</td>\n",
       "      <td>4117.649902</td>\n",
       "      <td>4155.000000</td>\n",
       "      <td>1648039</td>\n",
       "    </tr>\n",
       "    <tr>\n",
       "      <th>3666</th>\n",
       "      <td>4198.700195</td>\n",
       "      <td>4234.299805</td>\n",
       "      <td>4117.649902</td>\n",
       "      <td>4128.200195</td>\n",
       "      <td>1406487</td>\n",
       "    </tr>\n",
       "    <tr>\n",
       "      <th>3667</th>\n",
       "      <td>4197.399902</td>\n",
       "      <td>4218.000000</td>\n",
       "      <td>4164.350098</td>\n",
       "      <td>4216.000000</td>\n",
       "      <td>1587640</td>\n",
       "    </tr>\n",
       "    <tr>\n",
       "      <th>3668</th>\n",
       "      <td>4150.350098</td>\n",
       "      <td>4196.750000</td>\n",
       "      <td>4131.049805</td>\n",
       "      <td>4178.100098</td>\n",
       "      <td>1098813</td>\n",
       "    </tr>\n",
       "  </tbody>\n",
       "</table>\n",
       "<p>3669 rows × 5 columns</p>\n",
       "</div>"
      ],
      "text/plain": [
       "Price         Close         High          Low         Open   Volume\n",
       "Ticker       TCS.NS       TCS.NS       TCS.NS       TCS.NS   TCS.NS\n",
       "0        375.825012   379.450012   374.524994   377.399994  1963682\n",
       "1        375.924988   379.774994   373.274994   377.500000  2014488\n",
       "2        367.424988   376.100006   366.500000   375.924988  3349176\n",
       "3        357.200012   369.700012   355.500000   367.750000  6474892\n",
       "4        349.899994   359.250000   348.250000   358.000000  6048178\n",
       "...             ...          ...          ...          ...      ...\n",
       "3664    4150.899902  4205.799805  4085.050049  4169.700195  3724349\n",
       "3665    4147.000000  4169.750000  4117.649902  4155.000000  1648039\n",
       "3666    4198.700195  4234.299805  4117.649902  4128.200195  1406487\n",
       "3667    4197.399902  4218.000000  4164.350098  4216.000000  1587640\n",
       "3668    4150.350098  4196.750000  4131.049805  4178.100098  1098813\n",
       "\n",
       "[3669 rows x 5 columns]"
      ]
     },
     "execution_count": 10,
     "metadata": {},
     "output_type": "execute_result"
    }
   ],
   "source": [
    "df"
   ]
  },
  {
   "cell_type": "markdown",
   "id": "UMkTEOfBlzte",
   "metadata": {
    "id": "UMkTEOfBlzte"
   },
   "source": [
    "# Plotting moving averages of 100 day\n",
    "\n",
    "---\n",
    "\n"
   ]
  },
  {
   "cell_type": "code",
   "execution_count": null,
   "id": "114d2e0c",
   "metadata": {
    "colab": {
     "base_uri": "https://localhost:8080/"
    },
    "id": "114d2e0c",
    "outputId": "aad49169-4922-4f48-bd62-84ec26fa3768"
   },
   "outputs": [
    {
     "data": {
      "text/html": [
       "<div>\n",
       "<style scoped>\n",
       "    .dataframe tbody tr th:only-of-type {\n",
       "        vertical-align: middle;\n",
       "    }\n",
       "\n",
       "    .dataframe tbody tr th {\n",
       "        vertical-align: top;\n",
       "    }\n",
       "\n",
       "    .dataframe thead th {\n",
       "        text-align: right;\n",
       "    }\n",
       "</style>\n",
       "<table border=\"1\" class=\"dataframe\">\n",
       "  <thead>\n",
       "    <tr style=\"text-align: right;\">\n",
       "      <th>Ticker</th>\n",
       "      <th>TCS.NS</th>\n",
       "    </tr>\n",
       "  </thead>\n",
       "  <tbody>\n",
       "    <tr>\n",
       "      <th>0</th>\n",
       "      <td>NaN</td>\n",
       "    </tr>\n",
       "    <tr>\n",
       "      <th>1</th>\n",
       "      <td>NaN</td>\n",
       "    </tr>\n",
       "    <tr>\n",
       "      <th>2</th>\n",
       "      <td>NaN</td>\n",
       "    </tr>\n",
       "    <tr>\n",
       "      <th>3</th>\n",
       "      <td>NaN</td>\n",
       "    </tr>\n",
       "    <tr>\n",
       "      <th>4</th>\n",
       "      <td>NaN</td>\n",
       "    </tr>\n",
       "    <tr>\n",
       "      <th>...</th>\n",
       "      <td>...</td>\n",
       "    </tr>\n",
       "    <tr>\n",
       "      <th>3664</th>\n",
       "      <td>4218.291992</td>\n",
       "    </tr>\n",
       "    <tr>\n",
       "      <th>3665</th>\n",
       "      <td>4221.610991</td>\n",
       "    </tr>\n",
       "    <tr>\n",
       "      <th>3666</th>\n",
       "      <td>4225.580994</td>\n",
       "    </tr>\n",
       "    <tr>\n",
       "      <th>3667</th>\n",
       "      <td>4229.682493</td>\n",
       "    </tr>\n",
       "    <tr>\n",
       "      <th>3668</th>\n",
       "      <td>4233.078494</td>\n",
       "    </tr>\n",
       "  </tbody>\n",
       "</table>\n",
       "<p>3669 rows × 1 columns</p>\n",
       "</div>"
      ],
      "text/plain": [
       "Ticker       TCS.NS\n",
       "0               NaN\n",
       "1               NaN\n",
       "2               NaN\n",
       "3               NaN\n",
       "4               NaN\n",
       "...             ...\n",
       "3664    4218.291992\n",
       "3665    4221.610991\n",
       "3666    4225.580994\n",
       "3667    4229.682493\n",
       "3668    4233.078494\n",
       "\n",
       "[3669 rows x 1 columns]"
      ]
     },
     "execution_count": 11,
     "metadata": {},
     "output_type": "execute_result"
    }
   ],
   "source": [
    "ma100 = df.Close.rolling(100).mean()\n",
    "ma100"
   ]
  },
  {
   "cell_type": "code",
   "execution_count": null,
   "id": "e2f6b740",
   "metadata": {
    "colab": {
     "base_uri": "https://localhost:8080/",
     "height": 563
    },
    "id": "e2f6b740",
    "outputId": "136dd8a6-23d1-4fef-d676-8db5fed9e4b5"
   },
   "outputs": [
    {
     "data": {
      "text/plain": [
       "Text(0.5, 1.0, 'Graph Of Moving Averages Of 100 Days')"
      ]
     },
     "execution_count": 12,
     "metadata": {},
     "output_type": "execute_result"
    },
    {
     "data": {
      "image/png": "[encoded data removed]",
      "text/plain": [
       "<Figure size 1200x600 with 1 Axes>"
      ]
     },
     "metadata": {},
     "output_type": "display_data"
    }
   ],
   "source": [
    "plt.figure(figsize = (12,6))\n",
    "plt.plot(df.Close)\n",
    "plt.plot(ma100, 'r')\n",
    "plt.grid(True)\n",
    "plt.title('Graph Of Moving Averages Of 100 Days')"
   ]
  },
  {
   "cell_type": "markdown",
   "id": "LQKvGsXwmN65",
   "metadata": {
    "id": "LQKvGsXwmN65"
   },
   "source": [
    "# Defining 200 days moving averages and plotting comparision graph with 100 days moving averages\n",
    "\n",
    "---\n",
    "\n"
   ]
  },
  {
   "cell_type": "code",
   "execution_count": null,
   "id": "46c89811",
   "metadata": {
    "colab": {
     "base_uri": "https://localhost:8080/"
    },
    "id": "46c89811",
    "outputId": "a7a974f0-937e-4265-b375-929053f46272"
   },
   "outputs": [
    {
     "data": {
      "text/html": [
       "<div>\n",
       "<style scoped>\n",
       "    .dataframe tbody tr th:only-of-type {\n",
       "        vertical-align: middle;\n",
       "    }\n",
       "\n",
       "    .dataframe tbody tr th {\n",
       "        vertical-align: top;\n",
       "    }\n",
       "\n",
       "    .dataframe thead th {\n",
       "        text-align: right;\n",
       "    }\n",
       "</style>\n",
       "<table border=\"1\" class=\"dataframe\">\n",
       "  <thead>\n",
       "    <tr style=\"text-align: right;\">\n",
       "      <th>Ticker</th>\n",
       "      <th>TCS.NS</th>\n",
       "    </tr>\n",
       "  </thead>\n",
       "  <tbody>\n",
       "    <tr>\n",
       "      <th>0</th>\n",
       "      <td>NaN</td>\n",
       "    </tr>\n",
       "    <tr>\n",
       "      <th>1</th>\n",
       "      <td>NaN</td>\n",
       "    </tr>\n",
       "    <tr>\n",
       "      <th>2</th>\n",
       "      <td>NaN</td>\n",
       "    </tr>\n",
       "    <tr>\n",
       "      <th>3</th>\n",
       "      <td>NaN</td>\n",
       "    </tr>\n",
       "    <tr>\n",
       "      <th>4</th>\n",
       "      <td>NaN</td>\n",
       "    </tr>\n",
       "    <tr>\n",
       "      <th>...</th>\n",
       "      <td>...</td>\n",
       "    </tr>\n",
       "    <tr>\n",
       "      <th>3664</th>\n",
       "      <td>4080.272749</td>\n",
       "    </tr>\n",
       "    <tr>\n",
       "      <th>3665</th>\n",
       "      <td>4081.701249</td>\n",
       "    </tr>\n",
       "    <tr>\n",
       "      <th>3666</th>\n",
       "      <td>4083.271749</td>\n",
       "    </tr>\n",
       "    <tr>\n",
       "      <th>3667</th>\n",
       "      <td>4084.745748</td>\n",
       "    </tr>\n",
       "    <tr>\n",
       "      <th>3668</th>\n",
       "      <td>4085.782249</td>\n",
       "    </tr>\n",
       "  </tbody>\n",
       "</table>\n",
       "<p>3669 rows × 1 columns</p>\n",
       "</div>"
      ],
      "text/plain": [
       "Ticker       TCS.NS\n",
       "0               NaN\n",
       "1               NaN\n",
       "2               NaN\n",
       "3               NaN\n",
       "4               NaN\n",
       "...             ...\n",
       "3664    4080.272749\n",
       "3665    4081.701249\n",
       "3666    4083.271749\n",
       "3667    4084.745748\n",
       "3668    4085.782249\n",
       "\n",
       "[3669 rows x 1 columns]"
      ]
     },
     "execution_count": 13,
     "metadata": {},
     "output_type": "execute_result"
    }
   ],
   "source": [
    "ma200 = df.Close.rolling(200).mean()\n",
    "ma200"
   ]
  },
  {
   "cell_type": "code",
   "execution_count": null,
   "id": "d7c0ce2e",
   "metadata": {
    "colab": {
     "base_uri": "https://localhost:8080/",
     "height": 563
    },
    "id": "d7c0ce2e",
    "outputId": "853bd4ca-af7d-4c81-9d9d-92ec6eddbef2"
   },
   "outputs": [
    {
     "data": {
      "text/plain": [
       "Text(0.5, 1.0, 'Comparision Of 100 Days And 200 Days Moving Averages')"
      ]
     },
     "execution_count": 14,
     "metadata": {},
     "output_type": "execute_result"
    },
    {
     "data": {
      "image/png": "[encoded data removed]",
      "text/plain": [
       "<Figure size 1200x600 with 1 Axes>"
      ]
     },
     "metadata": {},
     "output_type": "display_data"
    }
   ],
   "source": [
    "plt.figure(figsize = (12,6))\n",
    "plt.plot(df.Close)\n",
    "plt.plot(ma100, 'r')\n",
    "plt.plot(ma200, 'g')\n",
    "plt.grid(True)\n",
    "plt.title('Comparision Of 100 Days And 200 Days Moving Averages')"
   ]
  },
  {
   "cell_type": "code",
   "execution_count": null,
   "id": "45a099a7",
   "metadata": {
    "colab": {
     "base_uri": "https://localhost:8080/"
    },
    "id": "45a099a7",
    "outputId": "c3685930-176a-4c2d-b391-69866c4637c5"
   },
   "outputs": [
    {
     "data": {
      "text/plain": [
       "(3669, 5)"
      ]
     },
     "execution_count": 15,
     "metadata": {},
     "output_type": "execute_result"
    }
   ],
   "source": [
    "df.shape"
   ]
  },
  {
   "cell_type": "markdown",
   "id": "bCw5fsrlmfpm",
   "metadata": {
    "id": "bCw5fsrlmfpm"
   },
   "source": [
    "# Spliting the dataset into training (70%) and testing (30%) set"
   ]
  },
  {
   "cell_type": "code",
   "execution_count": null,
   "id": "9610c5fc",
   "metadata": {
    "colab": {
     "base_uri": "https://localhost:8080/"
    },
    "id": "9610c5fc",
    "outputId": "56ee8fcd-ce88-4705-f511-b030a00712c0"
   },
   "outputs": [
    {
     "name": "stdout",
     "output_type": "stream",
     "text": [
      "(2568, 7)\n",
      "(1101, 7)\n"
     ]
    }
   ],
   "source": [
    "# Splitting data into training and testing\n",
    "\n",
    "train = pd.DataFrame(data[0:int(len(data)*0.70)])\n",
    "test = pd.DataFrame(data[int(len(data)*0.70): int(len(data))])\n",
    "\n",
    "print(train.shape)\n",
    "print(test.shape)"
   ]
  },
  {
   "cell_type": "code",
   "execution_count": null,
   "id": "2cb33dc0",
   "metadata": {
    "colab": {
     "base_uri": "https://localhost:8080/",
     "height": 206
    },
    "id": "2cb33dc0",
    "outputId": "bccf505c-0272-48e4-8b35-138abd6723dd"
   },
   "outputs": [
    {
     "data": {
      "text/html": [
       "<div>\n",
       "<style scoped>\n",
       "    .dataframe tbody tr th:only-of-type {\n",
       "        vertical-align: middle;\n",
       "    }\n",
       "\n",
       "    .dataframe tbody tr th {\n",
       "        vertical-align: top;\n",
       "    }\n",
       "\n",
       "    .dataframe thead tr th {\n",
       "        text-align: left;\n",
       "    }\n",
       "</style>\n",
       "<table border=\"1\" class=\"dataframe\">\n",
       "  <thead>\n",
       "    <tr>\n",
       "      <th>Price</th>\n",
       "      <th>Date</th>\n",
       "      <th>Adj Close</th>\n",
       "      <th>Close</th>\n",
       "      <th>High</th>\n",
       "      <th>Low</th>\n",
       "      <th>Open</th>\n",
       "      <th>Volume</th>\n",
       "    </tr>\n",
       "    <tr>\n",
       "      <th>Ticker</th>\n",
       "      <th></th>\n",
       "      <th>TCS.NS</th>\n",
       "      <th>TCS.NS</th>\n",
       "      <th>TCS.NS</th>\n",
       "      <th>TCS.NS</th>\n",
       "      <th>TCS.NS</th>\n",
       "      <th>TCS.NS</th>\n",
       "    </tr>\n",
       "  </thead>\n",
       "  <tbody>\n",
       "    <tr>\n",
       "      <th>0</th>\n",
       "      <td>2010-01-04 00:00:00+00:00</td>\n",
       "      <td>287.620789</td>\n",
       "      <td>375.825012</td>\n",
       "      <td>379.450012</td>\n",
       "      <td>374.524994</td>\n",
       "      <td>377.399994</td>\n",
       "      <td>1963682</td>\n",
       "    </tr>\n",
       "    <tr>\n",
       "      <th>1</th>\n",
       "      <td>2010-01-05 00:00:00+00:00</td>\n",
       "      <td>287.697388</td>\n",
       "      <td>375.924988</td>\n",
       "      <td>379.774994</td>\n",
       "      <td>373.274994</td>\n",
       "      <td>377.500000</td>\n",
       "      <td>2014488</td>\n",
       "    </tr>\n",
       "    <tr>\n",
       "      <th>2</th>\n",
       "      <td>2010-01-06 00:00:00+00:00</td>\n",
       "      <td>281.192322</td>\n",
       "      <td>367.424988</td>\n",
       "      <td>376.100006</td>\n",
       "      <td>366.500000</td>\n",
       "      <td>375.924988</td>\n",
       "      <td>3349176</td>\n",
       "    </tr>\n",
       "    <tr>\n",
       "      <th>3</th>\n",
       "      <td>2010-01-07 00:00:00+00:00</td>\n",
       "      <td>273.367096</td>\n",
       "      <td>357.200012</td>\n",
       "      <td>369.700012</td>\n",
       "      <td>355.500000</td>\n",
       "      <td>367.750000</td>\n",
       "      <td>6474892</td>\n",
       "    </tr>\n",
       "    <tr>\n",
       "      <th>4</th>\n",
       "      <td>2010-01-08 00:00:00+00:00</td>\n",
       "      <td>267.780396</td>\n",
       "      <td>349.899994</td>\n",
       "      <td>359.250000</td>\n",
       "      <td>348.250000</td>\n",
       "      <td>358.000000</td>\n",
       "      <td>6048178</td>\n",
       "    </tr>\n",
       "  </tbody>\n",
       "</table>\n",
       "</div>"
      ],
      "text/plain": [
       "Price                       Date   Adj Close       Close        High  \\\n",
       "Ticker                                TCS.NS      TCS.NS      TCS.NS   \n",
       "0      2010-01-04 00:00:00+00:00  287.620789  375.825012  379.450012   \n",
       "1      2010-01-05 00:00:00+00:00  287.697388  375.924988  379.774994   \n",
       "2      2010-01-06 00:00:00+00:00  281.192322  367.424988  376.100006   \n",
       "3      2010-01-07 00:00:00+00:00  273.367096  357.200012  369.700012   \n",
       "4      2010-01-08 00:00:00+00:00  267.780396  349.899994  359.250000   \n",
       "\n",
       "Price          Low        Open   Volume  \n",
       "Ticker      TCS.NS      TCS.NS   TCS.NS  \n",
       "0       374.524994  377.399994  1963682  \n",
       "1       373.274994  377.500000  2014488  \n",
       "2       366.500000  375.924988  3349176  \n",
       "3       355.500000  367.750000  6474892  \n",
       "4       348.250000  358.000000  6048178  "
      ]
     },
     "execution_count": 17,
     "metadata": {},
     "output_type": "execute_result"
    }
   ],
   "source": [
    "train.head()"
   ]
  },
  {
   "cell_type": "code",
   "execution_count": null,
   "id": "91f5ef8b",
   "metadata": {
    "colab": {
     "base_uri": "https://localhost:8080/",
     "height": 206
    },
    "id": "91f5ef8b",
    "outputId": "8e92506b-b4ea-4eec-c643-0f6e2d34bb90"
   },
   "outputs": [
    {
     "data": {
      "text/html": [
       "<div>\n",
       "<style scoped>\n",
       "    .dataframe tbody tr th:only-of-type {\n",
       "        vertical-align: middle;\n",
       "    }\n",
       "\n",
       "    .dataframe tbody tr th {\n",
       "        vertical-align: top;\n",
       "    }\n",
       "\n",
       "    .dataframe thead tr th {\n",
       "        text-align: left;\n",
       "    }\n",
       "</style>\n",
       "<table border=\"1\" class=\"dataframe\">\n",
       "  <thead>\n",
       "    <tr>\n",
       "      <th>Price</th>\n",
       "      <th>Date</th>\n",
       "      <th>Adj Close</th>\n",
       "      <th>Close</th>\n",
       "      <th>High</th>\n",
       "      <th>Low</th>\n",
       "      <th>Open</th>\n",
       "      <th>Volume</th>\n",
       "    </tr>\n",
       "    <tr>\n",
       "      <th>Ticker</th>\n",
       "      <th></th>\n",
       "      <th>TCS.NS</th>\n",
       "      <th>TCS.NS</th>\n",
       "      <th>TCS.NS</th>\n",
       "      <th>TCS.NS</th>\n",
       "      <th>TCS.NS</th>\n",
       "      <th>TCS.NS</th>\n",
       "    </tr>\n",
       "  </thead>\n",
       "  <tbody>\n",
       "    <tr>\n",
       "      <th>2568</th>\n",
       "      <td>2020-06-09 00:00:00+00:00</td>\n",
       "      <td>1912.113525</td>\n",
       "      <td>2072.050049</td>\n",
       "      <td>2095.500000</td>\n",
       "      <td>2060.250000</td>\n",
       "      <td>2063.100098</td>\n",
       "      <td>2909439</td>\n",
       "    </tr>\n",
       "    <tr>\n",
       "      <th>2569</th>\n",
       "      <td>2020-06-10 00:00:00+00:00</td>\n",
       "      <td>1945.980713</td>\n",
       "      <td>2108.750000</td>\n",
       "      <td>2132.000000</td>\n",
       "      <td>2073.500000</td>\n",
       "      <td>2077.050049</td>\n",
       "      <td>5168397</td>\n",
       "    </tr>\n",
       "    <tr>\n",
       "      <th>2570</th>\n",
       "      <td>2020-06-11 00:00:00+00:00</td>\n",
       "      <td>1908.052979</td>\n",
       "      <td>2067.649902</td>\n",
       "      <td>2105.000000</td>\n",
       "      <td>2061.800049</td>\n",
       "      <td>2100.000000</td>\n",
       "      <td>2269513</td>\n",
       "    </tr>\n",
       "    <tr>\n",
       "      <th>2571</th>\n",
       "      <td>2020-06-12 00:00:00+00:00</td>\n",
       "      <td>1882.075928</td>\n",
       "      <td>2039.500000</td>\n",
       "      <td>2049.199951</td>\n",
       "      <td>2011.000000</td>\n",
       "      <td>2011.199951</td>\n",
       "      <td>2842642</td>\n",
       "    </tr>\n",
       "    <tr>\n",
       "      <th>2572</th>\n",
       "      <td>2020-06-15 00:00:00+00:00</td>\n",
       "      <td>1873.216919</td>\n",
       "      <td>2029.900024</td>\n",
       "      <td>2059.000000</td>\n",
       "      <td>2000.949951</td>\n",
       "      <td>2039.099976</td>\n",
       "      <td>2399022</td>\n",
       "    </tr>\n",
       "  </tbody>\n",
       "</table>\n",
       "</div>"
      ],
      "text/plain": [
       "Price                       Date    Adj Close        Close         High  \\\n",
       "Ticker                                 TCS.NS       TCS.NS       TCS.NS   \n",
       "2568   2020-06-09 00:00:00+00:00  1912.113525  2072.050049  2095.500000   \n",
       "2569   2020-06-10 00:00:00+00:00  1945.980713  2108.750000  2132.000000   \n",
       "2570   2020-06-11 00:00:00+00:00  1908.052979  2067.649902  2105.000000   \n",
       "2571   2020-06-12 00:00:00+00:00  1882.075928  2039.500000  2049.199951   \n",
       "2572   2020-06-15 00:00:00+00:00  1873.216919  2029.900024  2059.000000   \n",
       "\n",
       "Price           Low         Open   Volume  \n",
       "Ticker       TCS.NS       TCS.NS   TCS.NS  \n",
       "2568    2060.250000  2063.100098  2909439  \n",
       "2569    2073.500000  2077.050049  5168397  \n",
       "2570    2061.800049  2100.000000  2269513  \n",
       "2571    2011.000000  2011.199951  2842642  \n",
       "2572    2000.949951  2039.099976  2399022  "
      ]
     },
     "execution_count": 18,
     "metadata": {},
     "output_type": "execute_result"
    }
   ],
   "source": [
    "test.head()"
   ]
  },
  {
   "cell_type": "markdown",
   "id": "-a818gdwm_WV",
   "metadata": {
    "id": "-a818gdwm_WV"
   },
   "source": [
    "# Using MinMax scaler for normalization of the dataset\n",
    "\n",
    "---\n",
    "\n"
   ]
  },
  {
   "cell_type": "code",
   "execution_count": null,
   "id": "01f04df7",
   "metadata": {
    "id": "01f04df7"
   },
   "outputs": [],
   "source": [
    "from sklearn.preprocessing import MinMaxScaler\n",
    "scaler = MinMaxScaler(feature_range=(0,1))"
   ]
  },
  {
   "cell_type": "code",
   "execution_count": null,
   "id": "53oSB51dB6Tw",
   "metadata": {
    "id": "53oSB51dB6Tw"
   },
   "outputs": [],
   "source": [
    "train_close = train.iloc[:, 4:5].values\n",
    "test_close = test.iloc[:, 4:5].values"
   ]
  },
  {
   "cell_type": "code",
   "execution_count": null,
   "id": "d97e7ff8",
   "metadata": {
    "colab": {
     "base_uri": "https://localhost:8080/"
    },
    "id": "d97e7ff8",
    "outputId": "eae5e982-ee9f-4be5-af17-b78fc6e6dd45"
   },
   "outputs": [
    {
     "data": {
      "text/plain": [
       "array([[0.01671754],\n",
       "       [0.01606246],\n",
       "       [0.01251195],\n",
       "       ...,\n",
       "       [0.89306534],\n",
       "       [0.88968517],\n",
       "       [0.90110973]])"
      ]
     },
     "execution_count": 21,
     "metadata": {},
     "output_type": "execute_result"
    }
   ],
   "source": [
    "data_training_array = scaler.fit_transform(train_close)\n",
    "data_training_array"
   ]
  },
  {
   "cell_type": "code",
   "execution_count": null,
   "id": "10227978",
   "metadata": {
    "id": "10227978"
   },
   "outputs": [],
   "source": [
    "x_train = []\n",
    "y_train = [] \n",
    "\n",
    "for i in range(100, data_training_array.shape[0]):\n",
    "    x_train.append(data_training_array[i-100: i])\n",
    "    y_train.append(data_training_array[i, 0])\n",
    "\n",
    "x_train, y_train = np.array(x_train), np.array(y_train) "
   ]
  },
  {
   "cell_type": "code",
   "execution_count": null,
   "id": "0ea6446e",
   "metadata": {
    "colab": {
     "base_uri": "https://localhost:8080/"
    },
    "id": "0ea6446e",
    "outputId": "16c4a903-7a88-43c7-e30b-89149f057b75"
   },
   "outputs": [
    {
     "data": {
      "text/plain": [
       "(2468, 100, 1)"
      ]
     },
     "execution_count": 23,
     "metadata": {},
     "output_type": "execute_result"
    }
   ],
   "source": [
    "x_train.shape"
   ]
  },
  {
   "cell_type": "markdown",
   "id": "dsMIlQ8DnVOJ",
   "metadata": {
    "id": "dsMIlQ8DnVOJ"
   },
   "source": [
    "# ML Model (LSTM)\n",
    "\n",
    "---\n",
    "\n"
   ]
  },
  {
   "cell_type": "code",
   "execution_count": null,
   "id": "e60ed317",
   "metadata": {
    "id": "e60ed317"
   },
   "outputs": [],
   "source": [
    "from tensorflow.keras.layers import Dense, Dropout, LSTM\n",
    "from tensorflow.keras.models import Sequential"
   ]
  },
  {
   "cell_type": "code",
   "execution_count": null,
   "id": "17082610",
   "metadata": {
    "colab": {
     "base_uri": "https://localhost:8080/"
    },
    "id": "17082610",
    "outputId": "e3a8a228-487d-40be-a6ce-7e999581b9d1"
   },
   "outputs": [
    {
     "name": "stderr",
     "output_type": "stream",
     "text": [
      "c:\\Users\\sanut\\anaconda3\\Lib\\site-packages\\keras\\src\\layers\\rnn\\rnn.py:204: UserWarning: Do not pass an `input_shape`/`input_dim` argument to a layer. When using Sequential models, prefer using an `Input(shape)` object as the first layer in the model instead.\n",
      "  super().__init__(**kwargs)\n"
     ]
    }
   ],
   "source": [
    "model = Sequential()\n",
    "model.add(LSTM(units = 50, activation = 'relu', return_sequences=True\n",
    "              ,input_shape = (x_train.shape[1], 1)))\n",
    "model.add(Dropout(0.2))\n",
    "\n",
    "\n",
    "model.add(LSTM(units = 60, activation = 'relu', return_sequences=True))\n",
    "model.add(Dropout(0.3))\n",
    "\n",
    "\n",
    "model.add(LSTM(units = 80, activation = 'relu', return_sequences=True))\n",
    "model.add(Dropout(0.4))\n",
    "\n",
    "\n",
    "model.add(LSTM(units = 120, activation = 'relu'))\n",
    "model.add(Dropout(0.5))\n",
    "\n",
    "model.add(Dense(units = 1))"
   ]
  },
  {
   "cell_type": "code",
   "execution_count": null,
   "id": "5f5a1db3",
   "metadata": {
    "colab": {
     "base_uri": "https://localhost:8080/"
    },
    "id": "5f5a1db3",
    "outputId": "23244ace-c6af-46ed-e068-77c1cd563dd0"
   },
   "outputs": [
    {
     "data": {
      "text/html": [
       "<pre style=\"white-space:pre;overflow-x:auto;line-height:normal;font-family:Menlo,'DejaVu Sans Mono',consolas,'Courier New',monospace\"><span style=\"font-weight: bold\">Model: \"sequential\"</span>\n",
       "</pre>\n"
      ],
      "text/plain": [
       "\u001b[1mModel: \"sequential\"\u001b[0m\n"
      ]
     },
     "metadata": {},
     "output_type": "display_data"
    },
    {
     "data": {
      "text/html": [
       "<pre style=\"white-space:pre;overflow-x:auto;line-height:normal;font-family:Menlo,'DejaVu Sans Mono',consolas,'Courier New',monospace\">┏━━━━━━━━━━━━━━━━━━━━━━━━━━━━━━━━━┳━━━━━━━━━━━━━━━━━━━━━━━━┳━━━━━━━━━━━━━━━┓\n",
       "┃<span style=\"font-weight: bold\"> Layer (type)                    </span>┃<span style=\"font-weight: bold\"> Output Shape           </span>┃<span style=\"font-weight: bold\">       Param # </span>┃\n",
       "┡━━━━━━━━━━━━━━━━━━━━━━━━━━━━━━━━━╇━━━━━━━━━━━━━━━━━━━━━━━━╇━━━━━━━━━━━━━━━┩\n",
       "│ lstm (<span style=\"color: #0087ff; text-decoration-color: #0087ff\">LSTM</span>)                     │ (<span style=\"color: #00d7ff; text-decoration-color: #00d7ff\">None</span>, <span style=\"color: #00af00; text-decoration-color: #00af00\">100</span>, <span style=\"color: #00af00; text-decoration-color: #00af00\">50</span>)        │        <span style=\"color: #00af00; text-decoration-color: #00af00\">10,400</span> │\n",
       "├─────────────────────────────────┼────────────────────────┼───────────────┤\n",
       "│ dropout (<span style=\"color: #0087ff; text-decoration-color: #0087ff\">Dropout</span>)               │ (<span style=\"color: #00d7ff; text-decoration-color: #00d7ff\">None</span>, <span style=\"color: #00af00; text-decoration-color: #00af00\">100</span>, <span style=\"color: #00af00; text-decoration-color: #00af00\">50</span>)        │             <span style=\"color: #00af00; text-decoration-color: #00af00\">0</span> │\n",
       "├─────────────────────────────────┼────────────────────────┼───────────────┤\n",
       "│ lstm_1 (<span style=\"color: #0087ff; text-decoration-color: #0087ff\">LSTM</span>)                   │ (<span style=\"color: #00d7ff; text-decoration-color: #00d7ff\">None</span>, <span style=\"color: #00af00; text-decoration-color: #00af00\">100</span>, <span style=\"color: #00af00; text-decoration-color: #00af00\">60</span>)        │        <span style=\"color: #00af00; text-decoration-color: #00af00\">26,640</span> │\n",
       "├─────────────────────────────────┼────────────────────────┼───────────────┤\n",
       "│ dropout_1 (<span style=\"color: #0087ff; text-decoration-color: #0087ff\">Dropout</span>)             │ (<span style=\"color: #00d7ff; text-decoration-color: #00d7ff\">None</span>, <span style=\"color: #00af00; text-decoration-color: #00af00\">100</span>, <span style=\"color: #00af00; text-decoration-color: #00af00\">60</span>)        │             <span style=\"color: #00af00; text-decoration-color: #00af00\">0</span> │\n",
       "├─────────────────────────────────┼────────────────────────┼───────────────┤\n",
       "│ lstm_2 (<span style=\"color: #0087ff; text-decoration-color: #0087ff\">LSTM</span>)                   │ (<span style=\"color: #00d7ff; text-decoration-color: #00d7ff\">None</span>, <span style=\"color: #00af00; text-decoration-color: #00af00\">100</span>, <span style=\"color: #00af00; text-decoration-color: #00af00\">80</span>)        │        <span style=\"color: #00af00; text-decoration-color: #00af00\">45,120</span> │\n",
       "├─────────────────────────────────┼────────────────────────┼───────────────┤\n",
       "│ dropout_2 (<span style=\"color: #0087ff; text-decoration-color: #0087ff\">Dropout</span>)             │ (<span style=\"color: #00d7ff; text-decoration-color: #00d7ff\">None</span>, <span style=\"color: #00af00; text-decoration-color: #00af00\">100</span>, <span style=\"color: #00af00; text-decoration-color: #00af00\">80</span>)        │             <span style=\"color: #00af00; text-decoration-color: #00af00\">0</span> │\n",
       "├─────────────────────────────────┼────────────────────────┼───────────────┤\n",
       "│ lstm_3 (<span style=\"color: #0087ff; text-decoration-color: #0087ff\">LSTM</span>)                   │ (<span style=\"color: #00d7ff; text-decoration-color: #00d7ff\">None</span>, <span style=\"color: #00af00; text-decoration-color: #00af00\">120</span>)            │        <span style=\"color: #00af00; text-decoration-color: #00af00\">96,480</span> │\n",
       "├─────────────────────────────────┼────────────────────────┼───────────────┤\n",
       "│ dropout_3 (<span style=\"color: #0087ff; text-decoration-color: #0087ff\">Dropout</span>)             │ (<span style=\"color: #00d7ff; text-decoration-color: #00d7ff\">None</span>, <span style=\"color: #00af00; text-decoration-color: #00af00\">120</span>)            │             <span style=\"color: #00af00; text-decoration-color: #00af00\">0</span> │\n",
       "├─────────────────────────────────┼────────────────────────┼───────────────┤\n",
       "│ dense (<span style=\"color: #0087ff; text-decoration-color: #0087ff\">Dense</span>)                   │ (<span style=\"color: #00d7ff; text-decoration-color: #00d7ff\">None</span>, <span style=\"color: #00af00; text-decoration-color: #00af00\">1</span>)              │           <span style=\"color: #00af00; text-decoration-color: #00af00\">121</span> │\n",
       "└─────────────────────────────────┴────────────────────────┴───────────────┘\n",
       "</pre>\n"
      ],
      "text/plain": [
       "┏━━━━━━━━━━━━━━━━━━━━━━━━━━━━━━━━━┳━━━━━━━━━━━━━━━━━━━━━━━━┳━━━━━━━━━━━━━━━┓\n",
       "┃\u001b[1m \u001b[0m\u001b[1mLayer (type)                   \u001b[0m\u001b[1m \u001b[0m┃\u001b[1m \u001b[0m\u001b[1mOutput Shape          \u001b[0m\u001b[1m \u001b[0m┃\u001b[1m \u001b[0m\u001b[1m      Param #\u001b[0m\u001b[1m \u001b[0m┃\n",
       "┡━━━━━━━━━━━━━━━━━━━━━━━━━━━━━━━━━╇━━━━━━━━━━━━━━━━━━━━━━━━╇━━━━━━━━━━━━━━━┩\n",
       "│ lstm (\u001b[38;5;33mLSTM\u001b[0m)                     │ (\u001b[38;5;45mNone\u001b[0m, \u001b[38;5;34m100\u001b[0m, \u001b[38;5;34m50\u001b[0m)        │        \u001b[38;5;34m10,400\u001b[0m │\n",
       "├─────────────────────────────────┼────────────────────────┼───────────────┤\n",
       "│ dropout (\u001b[38;5;33mDropout\u001b[0m)               │ (\u001b[38;5;45mNone\u001b[0m, \u001b[38;5;34m100\u001b[0m, \u001b[38;5;34m50\u001b[0m)        │             \u001b[38;5;34m0\u001b[0m │\n",
       "├─────────────────────────────────┼────────────────────────┼───────────────┤\n",
       "│ lstm_1 (\u001b[38;5;33mLSTM\u001b[0m)                   │ (\u001b[38;5;45mNone\u001b[0m, \u001b[38;5;34m100\u001b[0m, \u001b[38;5;34m60\u001b[0m)        │        \u001b[38;5;34m26,640\u001b[0m │\n",
       "├─────────────────────────────────┼────────────────────────┼───────────────┤\n",
       "│ dropout_1 (\u001b[38;5;33mDropout\u001b[0m)             │ (\u001b[38;5;45mNone\u001b[0m, \u001b[38;5;34m100\u001b[0m, \u001b[38;5;34m60\u001b[0m)        │             \u001b[38;5;34m0\u001b[0m │\n",
       "├─────────────────────────────────┼────────────────────────┼───────────────┤\n",
       "│ lstm_2 (\u001b[38;5;33mLSTM\u001b[0m)                   │ (\u001b[38;5;45mNone\u001b[0m, \u001b[38;5;34m100\u001b[0m, \u001b[38;5;34m80\u001b[0m)        │        \u001b[38;5;34m45,120\u001b[0m │\n",
       "├─────────────────────────────────┼────────────────────────┼───────────────┤\n",
       "│ dropout_2 (\u001b[38;5;33mDropout\u001b[0m)             │ (\u001b[38;5;45mNone\u001b[0m, \u001b[38;5;34m100\u001b[0m, \u001b[38;5;34m80\u001b[0m)        │             \u001b[38;5;34m0\u001b[0m │\n",
       "├─────────────────────────────────┼────────────────────────┼───────────────┤\n",
       "│ lstm_3 (\u001b[38;5;33mLSTM\u001b[0m)                   │ (\u001b[38;5;45mNone\u001b[0m, \u001b[38;5;34m120\u001b[0m)            │        \u001b[38;5;34m96,480\u001b[0m │\n",
       "├─────────────────────────────────┼────────────────────────┼───────────────┤\n",
       "│ dropout_3 (\u001b[38;5;33mDropout\u001b[0m)             │ (\u001b[38;5;45mNone\u001b[0m, \u001b[38;5;34m120\u001b[0m)            │             \u001b[38;5;34m0\u001b[0m │\n",
       "├─────────────────────────────────┼────────────────────────┼───────────────┤\n",
       "│ dense (\u001b[38;5;33mDense\u001b[0m)                   │ (\u001b[38;5;45mNone\u001b[0m, \u001b[38;5;34m1\u001b[0m)              │           \u001b[38;5;34m121\u001b[0m │\n",
       "└─────────────────────────────────┴────────────────────────┴───────────────┘\n"
      ]
     },
     "metadata": {},
     "output_type": "display_data"
    },
    {
     "data": {
      "text/html": [
       "<pre style=\"white-space:pre;overflow-x:auto;line-height:normal;font-family:Menlo,'DejaVu Sans Mono',consolas,'Courier New',monospace\"><span style=\"font-weight: bold\"> Total params: </span><span style=\"color: #00af00; text-decoration-color: #00af00\">178,761</span> (698.29 KB)\n",
       "</pre>\n"
      ],
      "text/plain": [
       "\u001b[1m Total params: \u001b[0m\u001b[38;5;34m178,761\u001b[0m (698.29 KB)\n"
      ]
     },
     "metadata": {},
     "output_type": "display_data"
    },
    {
     "data": {
      "text/html": [
       "<pre style=\"white-space:pre;overflow-x:auto;line-height:normal;font-family:Menlo,'DejaVu Sans Mono',consolas,'Courier New',monospace\"><span style=\"font-weight: bold\"> Trainable params: </span><span style=\"color: #00af00; text-decoration-color: #00af00\">178,761</span> (698.29 KB)\n",
       "</pre>\n"
      ],
      "text/plain": [
       "\u001b[1m Trainable params: \u001b[0m\u001b[38;5;34m178,761\u001b[0m (698.29 KB)\n"
      ]
     },
     "metadata": {},
     "output_type": "display_data"
    },
    {
     "data": {
      "text/html": [
       "<pre style=\"white-space:pre;overflow-x:auto;line-height:normal;font-family:Menlo,'DejaVu Sans Mono',consolas,'Courier New',monospace\"><span style=\"font-weight: bold\"> Non-trainable params: </span><span style=\"color: #00af00; text-decoration-color: #00af00\">0</span> (0.00 B)\n",
       "</pre>\n"
      ],
      "text/plain": [
       "\u001b[1m Non-trainable params: \u001b[0m\u001b[38;5;34m0\u001b[0m (0.00 B)\n"
      ]
     },
     "metadata": {},
     "output_type": "display_data"
    }
   ],
   "source": [
    "model.summary()"
   ]
  },
  {
   "cell_type": "markdown",
   "id": "KgEnUfCnn_1r",
   "metadata": {
    "id": "KgEnUfCnn_1r"
   },
   "source": [
    "# Training the model\n",
    "\n",
    "---\n",
    "\n"
   ]
  },
  {
   "cell_type": "code",
   "execution_count": null,
   "id": "1d0c9b64",
   "metadata": {
    "colab": {
     "base_uri": "https://localhost:8080/"
    },
    "id": "1d0c9b64",
    "outputId": "8014670b-4fcf-4fe9-d60a-786b45c8b88c",
    "scrolled": false
   },
   "outputs": [
    {
     "name": "stdout",
     "output_type": "stream",
     "text": [
      "Epoch 1/100\n",
      "\u001b[1m78/78\u001b[0m \u001b[32m━━━━━━━━━━━━━━━━━━━━\u001b[0m\u001b[37m\u001b[0m \u001b[1m41s\u001b[0m 307ms/step - loss: 0.1025 - mean_absolute_error: 0.2209\n",
      "Epoch 2/100\n",
      "\u001b[1m78/78\u001b[0m \u001b[32m━━━━━━━━━━━━━━━━━━━━\u001b[0m\u001b[37m\u001b[0m \u001b[1m27s\u001b[0m 341ms/step - loss: 0.0110 - mean_absolute_error: 0.0742\n",
      "Epoch 3/100\n",
      "\u001b[1m78/78\u001b[0m \u001b[32m━━━━━━━━━━━━━━━━━━━━\u001b[0m\u001b[37m\u001b[0m \u001b[1m21s\u001b[0m 265ms/step - loss: 0.0076 - mean_absolute_error: 0.0609\n",
      "Epoch 4/100\n",
      "\u001b[1m78/78\u001b[0m \u001b[32m━━━━━━━━━━━━━━━━━━━━\u001b[0m\u001b[37m\u001b[0m \u001b[1m23s\u001b[0m 288ms/step - loss: 0.0086 - mean_absolute_error: 0.0653\n",
      "Epoch 5/100\n",
      "\u001b[1m78/78\u001b[0m \u001b[32m━━━━━━━━━━━━━━━━━━━━\u001b[0m\u001b[37m\u001b[0m \u001b[1m23s\u001b[0m 288ms/step - loss: 0.0076 - mean_absolute_error: 0.0606\n",
      "Epoch 6/100\n",
      "\u001b[1m78/78\u001b[0m \u001b[32m━━━━━━━━━━━━━━━━━━━━\u001b[0m\u001b[37m\u001b[0m \u001b[1m25s\u001b[0m 314ms/step - loss: 0.0068 - mean_absolute_error: 0.0568\n",
      "Epoch 7/100\n",
      "\u001b[1m78/78\u001b[0m \u001b[32m━━━━━━━━━━━━━━━━━━━━\u001b[0m\u001b[37m\u001b[0m \u001b[1m20s\u001b[0m 253ms/step - loss: 0.0061 - mean_absolute_error: 0.0533\n",
      "Epoch 8/100\n",
      "\u001b[1m78/78\u001b[0m \u001b[32m━━━━━━━━━━━━━━━━━━━━\u001b[0m\u001b[37m\u001b[0m \u001b[1m22s\u001b[0m 286ms/step - loss: 0.0052 - mean_absolute_error: 0.0501\n",
      "Epoch 9/100\n",
      "\u001b[1m78/78\u001b[0m \u001b[32m━━━━━━━━━━━━━━━━━━━━\u001b[0m\u001b[37m\u001b[0m \u001b[1m46s\u001b[0m 352ms/step - loss: 0.0054 - mean_absolute_error: 0.0517\n",
      "Epoch 10/100\n",
      "\u001b[1m78/78\u001b[0m \u001b[32m━━━━━━━━━━━━━━━━━━━━\u001b[0m\u001b[37m\u001b[0m \u001b[1m38s\u001b[0m 311ms/step - loss: 0.0053 - mean_absolute_error: 0.0498\n",
      "Epoch 11/100\n",
      "\u001b[1m78/78\u001b[0m \u001b[32m━━━━━━━━━━━━━━━━━━━━\u001b[0m\u001b[37m\u001b[0m \u001b[1m24s\u001b[0m 303ms/step - loss: 0.0047 - mean_absolute_error: 0.0483\n",
      "Epoch 12/100\n",
      "\u001b[1m78/78\u001b[0m \u001b[32m━━━━━━━━━━━━━━━━━━━━\u001b[0m\u001b[37m\u001b[0m \u001b[1m23s\u001b[0m 289ms/step - loss: 0.0053 - mean_absolute_error: 0.0495\n",
      "Epoch 13/100\n",
      "\u001b[1m78/78\u001b[0m \u001b[32m━━━━━━━━━━━━━━━━━━━━\u001b[0m\u001b[37m\u001b[0m \u001b[1m20s\u001b[0m 260ms/step - loss: 0.0051 - mean_absolute_error: 0.0478\n",
      "Epoch 14/100\n",
      "\u001b[1m78/78\u001b[0m \u001b[32m━━━━━━━━━━━━━━━━━━━━\u001b[0m\u001b[37m\u001b[0m \u001b[1m27s\u001b[0m 342ms/step - loss: 0.0046 - mean_absolute_error: 0.0467\n",
      "Epoch 15/100\n",
      "\u001b[1m78/78\u001b[0m \u001b[32m━━━━━━━━━━━━━━━━━━━━\u001b[0m\u001b[37m\u001b[0m \u001b[1m42s\u001b[0m 358ms/step - loss: 0.0047 - mean_absolute_error: 0.0474\n",
      "Epoch 16/100\n",
      "\u001b[1m78/78\u001b[0m \u001b[32m━━━━━━━━━━━━━━━━━━━━\u001b[0m\u001b[37m\u001b[0m \u001b[1m21s\u001b[0m 270ms/step - loss: 0.0041 - mean_absolute_error: 0.0443\n",
      "Epoch 17/100\n",
      "\u001b[1m78/78\u001b[0m \u001b[32m━━━━━━━━━━━━━━━━━━━━\u001b[0m\u001b[37m\u001b[0m \u001b[1m49s\u001b[0m 369ms/step - loss: 0.0043 - mean_absolute_error: 0.0445\n",
      "Epoch 18/100\n",
      "\u001b[1m78/78\u001b[0m \u001b[32m━━━━━━━━━━━━━━━━━━━━\u001b[0m\u001b[37m\u001b[0m \u001b[1m27s\u001b[0m 340ms/step - loss: 0.0045 - mean_absolute_error: 0.0470\n",
      "Epoch 19/100\n",
      "\u001b[1m78/78\u001b[0m \u001b[32m━━━━━━━━━━━━━━━━━━━━\u001b[0m\u001b[37m\u001b[0m \u001b[1m24s\u001b[0m 311ms/step - loss: 0.0043 - mean_absolute_error: 0.0463\n",
      "Epoch 20/100\n",
      "\u001b[1m78/78\u001b[0m \u001b[32m━━━━━━━━━━━━━━━━━━━━\u001b[0m\u001b[37m\u001b[0m \u001b[1m41s\u001b[0m 303ms/step - loss: 0.0032 - mean_absolute_error: 0.0400\n",
      "Epoch 21/100\n",
      "\u001b[1m78/78\u001b[0m \u001b[32m━━━━━━━━━━━━━━━━━━━━\u001b[0m\u001b[37m\u001b[0m \u001b[1m44s\u001b[0m 335ms/step - loss: 0.0035 - mean_absolute_error: 0.0414\n",
      "Epoch 22/100\n",
      "\u001b[1m78/78\u001b[0m \u001b[32m━━━━━━━━━━━━━━━━━━━━\u001b[0m\u001b[37m\u001b[0m \u001b[1m45s\u001b[0m 383ms/step - loss: 0.0034 - mean_absolute_error: 0.0395\n",
      "Epoch 23/100\n",
      "\u001b[1m78/78\u001b[0m \u001b[32m━━━━━━━━━━━━━━━━━━━━\u001b[0m\u001b[37m\u001b[0m \u001b[1m25s\u001b[0m 312ms/step - loss: 0.0036 - mean_absolute_error: 0.0420\n",
      "Epoch 24/100\n",
      "\u001b[1m78/78\u001b[0m \u001b[32m━━━━━━━━━━━━━━━━━━━━\u001b[0m\u001b[37m\u001b[0m \u001b[1m39s\u001b[0m 280ms/step - loss: 0.0032 - mean_absolute_error: 0.0392\n",
      "Epoch 25/100\n",
      "\u001b[1m78/78\u001b[0m \u001b[32m━━━━━━━━━━━━━━━━━━━━\u001b[0m\u001b[37m\u001b[0m \u001b[1m46s\u001b[0m 348ms/step - loss: 0.0029 - mean_absolute_error: 0.0378\n",
      "Epoch 26/100\n",
      "\u001b[1m78/78\u001b[0m \u001b[32m━━━━━━━━━━━━━━━━━━━━\u001b[0m\u001b[37m\u001b[0m \u001b[1m24s\u001b[0m 305ms/step - loss: 0.0031 - mean_absolute_error: 0.0388\n",
      "Epoch 27/100\n",
      "\u001b[1m78/78\u001b[0m \u001b[32m━━━━━━━━━━━━━━━━━━━━\u001b[0m\u001b[37m\u001b[0m \u001b[1m21s\u001b[0m 268ms/step - loss: 0.0032 - mean_absolute_error: 0.0395\n",
      "Epoch 28/100\n",
      "\u001b[1m78/78\u001b[0m \u001b[32m━━━━━━━━━━━━━━━━━━━━\u001b[0m\u001b[37m\u001b[0m \u001b[1m21s\u001b[0m 265ms/step - loss: 0.0030 - mean_absolute_error: 0.0381\n",
      "Epoch 29/100\n",
      "\u001b[1m78/78\u001b[0m \u001b[32m━━━━━━━━━━━━━━━━━━━━\u001b[0m\u001b[37m\u001b[0m \u001b[1m21s\u001b[0m 275ms/step - loss: 0.0033 - mean_absolute_error: 0.0408\n",
      "Epoch 30/100\n",
      "\u001b[1m78/78\u001b[0m \u001b[32m━━━━━━━━━━━━━━━━━━━━\u001b[0m\u001b[37m\u001b[0m \u001b[1m23s\u001b[0m 288ms/step - loss: 0.0027 - mean_absolute_error: 0.0383\n",
      "Epoch 31/100\n",
      "\u001b[1m78/78\u001b[0m \u001b[32m━━━━━━━━━━━━━━━━━━━━\u001b[0m\u001b[37m\u001b[0m \u001b[1m19s\u001b[0m 248ms/step - loss: 0.0026 - mean_absolute_error: 0.0380\n",
      "Epoch 32/100\n",
      "\u001b[1m78/78\u001b[0m \u001b[32m━━━━━━━━━━━━━━━━━━━━\u001b[0m\u001b[37m\u001b[0m \u001b[1m20s\u001b[0m 257ms/step - loss: 0.0038 - mean_absolute_error: 0.0435\n",
      "Epoch 33/100\n",
      "\u001b[1m78/78\u001b[0m \u001b[32m━━━━━━━━━━━━━━━━━━━━\u001b[0m\u001b[37m\u001b[0m \u001b[1m20s\u001b[0m 247ms/step - loss: 0.0030 - mean_absolute_error: 0.0397\n",
      "Epoch 34/100\n",
      "\u001b[1m78/78\u001b[0m \u001b[32m━━━━━━━━━━━━━━━━━━━━\u001b[0m\u001b[37m\u001b[0m \u001b[1m20s\u001b[0m 256ms/step - loss: 0.0026 - mean_absolute_error: 0.0363\n",
      "Epoch 35/100\n",
      "\u001b[1m78/78\u001b[0m \u001b[32m━━━━━━━━━━━━━━━━━━━━\u001b[0m\u001b[37m\u001b[0m \u001b[1m19s\u001b[0m 246ms/step - loss: 0.0027 - mean_absolute_error: 0.0365\n",
      "Epoch 36/100\n",
      "\u001b[1m78/78\u001b[0m \u001b[32m━━━━━━━━━━━━━━━━━━━━\u001b[0m\u001b[37m\u001b[0m \u001b[1m19s\u001b[0m 247ms/step - loss: 0.0029 - mean_absolute_error: 0.0375\n",
      "Epoch 37/100\n",
      "\u001b[1m78/78\u001b[0m \u001b[32m━━━━━━━━━━━━━━━━━━━━\u001b[0m\u001b[37m\u001b[0m \u001b[1m19s\u001b[0m 246ms/step - loss: 0.0026 - mean_absolute_error: 0.0365\n",
      "Epoch 38/100\n",
      "\u001b[1m78/78\u001b[0m \u001b[32m━━━━━━━━━━━━━━━━━━━━\u001b[0m\u001b[37m\u001b[0m \u001b[1m21s\u001b[0m 244ms/step - loss: 0.0027 - mean_absolute_error: 0.0380\n",
      "Epoch 39/100\n",
      "\u001b[1m78/78\u001b[0m \u001b[32m━━━━━━━━━━━━━━━━━━━━\u001b[0m\u001b[37m\u001b[0m \u001b[1m19s\u001b[0m 245ms/step - loss: 0.0029 - mean_absolute_error: 0.0394\n",
      "Epoch 40/100\n",
      "\u001b[1m78/78\u001b[0m \u001b[32m━━━━━━━━━━━━━━━━━━━━\u001b[0m\u001b[37m\u001b[0m \u001b[1m19s\u001b[0m 244ms/step - loss: 0.0030 - mean_absolute_error: 0.0385\n",
      "Epoch 41/100\n",
      "\u001b[1m78/78\u001b[0m \u001b[32m━━━━━━━━━━━━━━━━━━━━\u001b[0m\u001b[37m\u001b[0m \u001b[1m21s\u001b[0m 273ms/step - loss: 0.0027 - mean_absolute_error: 0.0370\n",
      "Epoch 42/100\n",
      "\u001b[1m78/78\u001b[0m \u001b[32m━━━━━━━━━━━━━━━━━━━━\u001b[0m\u001b[37m\u001b[0m \u001b[1m22s\u001b[0m 278ms/step - loss: 0.0026 - mean_absolute_error: 0.0370\n",
      "Epoch 43/100\n",
      "\u001b[1m78/78\u001b[0m \u001b[32m━━━━━━━━━━━━━━━━━━━━\u001b[0m\u001b[37m\u001b[0m \u001b[1m20s\u001b[0m 252ms/step - loss: 0.0027 - mean_absolute_error: 0.0375\n",
      "Epoch 44/100\n",
      "\u001b[1m78/78\u001b[0m \u001b[32m━━━━━━━━━━━━━━━━━━━━\u001b[0m\u001b[37m\u001b[0m \u001b[1m21s\u001b[0m 259ms/step - loss: 0.0027 - mean_absolute_error: 0.0382\n",
      "Epoch 45/100\n",
      "\u001b[1m78/78\u001b[0m \u001b[32m━━━━━━━━━━━━━━━━━━━━\u001b[0m\u001b[37m\u001b[0m \u001b[1m20s\u001b[0m 250ms/step - loss: 0.0028 - mean_absolute_error: 0.0376\n",
      "Epoch 46/100\n",
      "\u001b[1m78/78\u001b[0m \u001b[32m━━━━━━━━━━━━━━━━━━━━\u001b[0m\u001b[37m\u001b[0m \u001b[1m19s\u001b[0m 247ms/step - loss: 0.0025 - mean_absolute_error: 0.0366\n",
      "Epoch 47/100\n",
      "\u001b[1m78/78\u001b[0m \u001b[32m━━━━━━━━━━━━━━━━━━━━\u001b[0m\u001b[37m\u001b[0m \u001b[1m19s\u001b[0m 245ms/step - loss: 0.0025 - mean_absolute_error: 0.0348\n",
      "Epoch 48/100\n",
      "\u001b[1m78/78\u001b[0m \u001b[32m━━━━━━━━━━━━━━━━━━━━\u001b[0m\u001b[37m\u001b[0m \u001b[1m19s\u001b[0m 246ms/step - loss: 0.0027 - mean_absolute_error: 0.0374\n",
      "Epoch 49/100\n",
      "\u001b[1m78/78\u001b[0m \u001b[32m━━━━━━━━━━━━━━━━━━━━\u001b[0m\u001b[37m\u001b[0m \u001b[1m19s\u001b[0m 248ms/step - loss: 0.0024 - mean_absolute_error: 0.0358\n",
      "Epoch 50/100\n",
      "\u001b[1m78/78\u001b[0m \u001b[32m━━━━━━━━━━━━━━━━━━━━\u001b[0m\u001b[37m\u001b[0m \u001b[1m21s\u001b[0m 254ms/step - loss: 0.0025 - mean_absolute_error: 0.0360\n",
      "Epoch 51/100\n",
      "\u001b[1m78/78\u001b[0m \u001b[32m━━━━━━━━━━━━━━━━━━━━\u001b[0m\u001b[37m\u001b[0m \u001b[1m22s\u001b[0m 271ms/step - loss: 0.0026 - mean_absolute_error: 0.0370\n",
      "Epoch 52/100\n",
      "\u001b[1m78/78\u001b[0m \u001b[32m━━━━━━━━━━━━━━━━━━━━\u001b[0m\u001b[37m\u001b[0m \u001b[1m24s\u001b[0m 305ms/step - loss: 0.0026 - mean_absolute_error: 0.0368\n",
      "Epoch 53/100\n",
      "\u001b[1m78/78\u001b[0m \u001b[32m━━━━━━━━━━━━━━━━━━━━\u001b[0m\u001b[37m\u001b[0m \u001b[1m44s\u001b[0m 343ms/step - loss: 0.0025 - mean_absolute_error: 0.0360\n",
      "Epoch 54/100\n",
      "\u001b[1m78/78\u001b[0m \u001b[32m━━━━━━━━━━━━━━━━━━━━\u001b[0m\u001b[37m\u001b[0m \u001b[1m21s\u001b[0m 268ms/step - loss: 0.0025 - mean_absolute_error: 0.0365\n",
      "Epoch 55/100\n",
      "\u001b[1m78/78\u001b[0m \u001b[32m━━━━━━━━━━━━━━━━━━━━\u001b[0m\u001b[37m\u001b[0m \u001b[1m25s\u001b[0m 314ms/step - loss: 0.0024 - mean_absolute_error: 0.0361\n",
      "Epoch 56/100\n",
      "\u001b[1m78/78\u001b[0m \u001b[32m━━━━━━━━━━━━━━━━━━━━\u001b[0m\u001b[37m\u001b[0m \u001b[1m43s\u001b[0m 338ms/step - loss: 0.0023 - mean_absolute_error: 0.0337\n",
      "Epoch 57/100\n",
      "\u001b[1m78/78\u001b[0m \u001b[32m━━━━━━━━━━━━━━━━━━━━\u001b[0m\u001b[37m\u001b[0m \u001b[1m22s\u001b[0m 283ms/step - loss: 0.0026 - mean_absolute_error: 0.0375\n",
      "Epoch 58/100\n",
      "\u001b[1m78/78\u001b[0m \u001b[32m━━━━━━━━━━━━━━━━━━━━\u001b[0m\u001b[37m\u001b[0m \u001b[1m45s\u001b[0m 332ms/step - loss: 0.0024 - mean_absolute_error: 0.0353\n",
      "Epoch 59/100\n",
      "\u001b[1m78/78\u001b[0m \u001b[32m━━━━━━━━━━━━━━━━━━━━\u001b[0m\u001b[37m\u001b[0m \u001b[1m28s\u001b[0m 363ms/step - loss: 0.0026 - mean_absolute_error: 0.0364\n",
      "Epoch 60/100\n",
      "\u001b[1m78/78\u001b[0m \u001b[32m━━━━━━━━━━━━━━━━━━━━\u001b[0m\u001b[37m\u001b[0m \u001b[1m34s\u001b[0m 274ms/step - loss: 0.0026 - mean_absolute_error: 0.0373\n",
      "Epoch 61/100\n",
      "\u001b[1m78/78\u001b[0m \u001b[32m━━━━━━━━━━━━━━━━━━━━\u001b[0m\u001b[37m\u001b[0m \u001b[1m23s\u001b[0m 292ms/step - loss: 0.0025 - mean_absolute_error: 0.0354\n",
      "Epoch 62/100\n",
      "\u001b[1m78/78\u001b[0m \u001b[32m━━━━━━━━━━━━━━━━━━━━\u001b[0m\u001b[37m\u001b[0m \u001b[1m41s\u001b[0m 286ms/step - loss: 0.0023 - mean_absolute_error: 0.0352\n",
      "Epoch 63/100\n",
      "\u001b[1m78/78\u001b[0m \u001b[32m━━━━━━━━━━━━━━━━━━━━\u001b[0m\u001b[37m\u001b[0m \u001b[1m24s\u001b[0m 302ms/step - loss: 0.0026 - mean_absolute_error: 0.0370\n",
      "Epoch 64/100\n",
      "\u001b[1m78/78\u001b[0m \u001b[32m━━━━━━━━━━━━━━━━━━━━\u001b[0m\u001b[37m\u001b[0m \u001b[1m26s\u001b[0m 327ms/step - loss: 0.0027 - mean_absolute_error: 0.0371\n",
      "Epoch 65/100\n",
      "\u001b[1m78/78\u001b[0m \u001b[32m━━━━━━━━━━━━━━━━━━━━\u001b[0m\u001b[37m\u001b[0m \u001b[1m23s\u001b[0m 290ms/step - loss: 0.0023 - mean_absolute_error: 0.0342\n",
      "Epoch 66/100\n",
      "\u001b[1m78/78\u001b[0m \u001b[32m━━━━━━━━━━━━━━━━━━━━\u001b[0m\u001b[37m\u001b[0m \u001b[1m47s\u001b[0m 366ms/step - loss: 0.0027 - mean_absolute_error: 0.0367\n",
      "Epoch 67/100\n",
      "\u001b[1m78/78\u001b[0m \u001b[32m━━━━━━━━━━━━━━━━━━━━\u001b[0m\u001b[37m\u001b[0m \u001b[1m36s\u001b[0m 299ms/step - loss: 0.0024 - mean_absolute_error: 0.0347\n",
      "Epoch 68/100\n",
      "\u001b[1m78/78\u001b[0m \u001b[32m━━━━━━━━━━━━━━━━━━━━\u001b[0m\u001b[37m\u001b[0m \u001b[1m38s\u001b[0m 253ms/step - loss: 0.0022 - mean_absolute_error: 0.0338\n",
      "Epoch 69/100\n",
      "\u001b[1m78/78\u001b[0m \u001b[32m━━━━━━━━━━━━━━━━━━━━\u001b[0m\u001b[37m\u001b[0m \u001b[1m20s\u001b[0m 245ms/step - loss: 0.0025 - mean_absolute_error: 0.0354\n",
      "Epoch 70/100\n",
      "\u001b[1m78/78\u001b[0m \u001b[32m━━━━━━━━━━━━━━━━━━━━\u001b[0m\u001b[37m\u001b[0m \u001b[1m21s\u001b[0m 251ms/step - loss: 0.0024 - mean_absolute_error: 0.0341\n",
      "Epoch 71/100\n",
      "\u001b[1m78/78\u001b[0m \u001b[32m━━━━━━━━━━━━━━━━━━━━\u001b[0m\u001b[37m\u001b[0m \u001b[1m20s\u001b[0m 258ms/step - loss: 0.0022 - mean_absolute_error: 0.0343\n",
      "Epoch 72/100\n",
      "\u001b[1m78/78\u001b[0m \u001b[32m━━━━━━━━━━━━━━━━━━━━\u001b[0m\u001b[37m\u001b[0m \u001b[1m30s\u001b[0m 376ms/step - loss: 0.0024 - mean_absolute_error: 0.0352\n",
      "Epoch 73/100\n",
      "\u001b[1m78/78\u001b[0m \u001b[32m━━━━━━━━━━━━━━━━━━━━\u001b[0m\u001b[37m\u001b[0m \u001b[1m29s\u001b[0m 375ms/step - loss: 0.0024 - mean_absolute_error: 0.0355\n",
      "Epoch 74/100\n",
      "\u001b[1m78/78\u001b[0m \u001b[32m━━━━━━━━━━━━━━━━━━━━\u001b[0m\u001b[37m\u001b[0m \u001b[1m24s\u001b[0m 304ms/step - loss: 0.0023 - mean_absolute_error: 0.0352\n",
      "Epoch 75/100\n",
      "\u001b[1m78/78\u001b[0m \u001b[32m━━━━━━━━━━━━━━━━━━━━\u001b[0m\u001b[37m\u001b[0m \u001b[1m21s\u001b[0m 264ms/step - loss: 0.0023 - mean_absolute_error: 0.0343\n",
      "Epoch 76/100\n",
      "\u001b[1m78/78\u001b[0m \u001b[32m━━━━━━━━━━━━━━━━━━━━\u001b[0m\u001b[37m\u001b[0m \u001b[1m22s\u001b[0m 284ms/step - loss: 0.0025 - mean_absolute_error: 0.0353\n",
      "Epoch 77/100\n",
      "\u001b[1m78/78\u001b[0m \u001b[32m━━━━━━━━━━━━━━━━━━━━\u001b[0m\u001b[37m\u001b[0m \u001b[1m23s\u001b[0m 289ms/step - loss: 0.0026 - mean_absolute_error: 0.0364\n",
      "Epoch 78/100\n",
      "\u001b[1m78/78\u001b[0m \u001b[32m━━━━━━━━━━━━━━━━━━━━\u001b[0m\u001b[37m\u001b[0m \u001b[1m51s\u001b[0m 412ms/step - loss: 0.0023 - mean_absolute_error: 0.0343\n",
      "Epoch 79/100\n",
      "\u001b[1m78/78\u001b[0m \u001b[32m━━━━━━━━━━━━━━━━━━━━\u001b[0m\u001b[37m\u001b[0m \u001b[1m39s\u001b[0m 384ms/step - loss: 0.0025 - mean_absolute_error: 0.0357\n",
      "Epoch 80/100\n",
      "\u001b[1m78/78\u001b[0m \u001b[32m━━━━━━━━━━━━━━━━━━━━\u001b[0m\u001b[37m\u001b[0m \u001b[1m21s\u001b[0m 272ms/step - loss: 0.0024 - mean_absolute_error: 0.0350\n",
      "Epoch 81/100\n",
      "\u001b[1m78/78\u001b[0m \u001b[32m━━━━━━━━━━━━━━━━━━━━\u001b[0m\u001b[37m\u001b[0m \u001b[1m48s\u001b[0m 356ms/step - loss: 0.0024 - mean_absolute_error: 0.0364\n",
      "Epoch 82/100\n",
      "\u001b[1m78/78\u001b[0m \u001b[32m━━━━━━━━━━━━━━━━━━━━\u001b[0m\u001b[37m\u001b[0m \u001b[1m35s\u001b[0m 280ms/step - loss: 0.0027 - mean_absolute_error: 0.0356\n",
      "Epoch 83/100\n",
      "\u001b[1m78/78\u001b[0m \u001b[32m━━━━━━━━━━━━━━━━━━━━\u001b[0m\u001b[37m\u001b[0m \u001b[1m32s\u001b[0m 411ms/step - loss: 0.0023 - mean_absolute_error: 0.0350\n",
      "Epoch 84/100\n",
      "\u001b[1m78/78\u001b[0m \u001b[32m━━━━━━━━━━━━━━━━━━━━\u001b[0m\u001b[37m\u001b[0m \u001b[1m27s\u001b[0m 346ms/step - loss: 0.0023 - mean_absolute_error: 0.0341\n",
      "Epoch 85/100\n",
      "\u001b[1m78/78\u001b[0m \u001b[32m━━━━━━━━━━━━━━━━━━━━\u001b[0m\u001b[37m\u001b[0m \u001b[1m41s\u001b[0m 341ms/step - loss: 0.0024 - mean_absolute_error: 0.0345\n",
      "Epoch 86/100\n",
      "\u001b[1m78/78\u001b[0m \u001b[32m━━━━━━━━━━━━━━━━━━━━\u001b[0m\u001b[37m\u001b[0m \u001b[1m30s\u001b[0m 380ms/step - loss: 0.0024 - mean_absolute_error: 0.0350\n",
      "Epoch 87/100\n",
      "\u001b[1m78/78\u001b[0m \u001b[32m━━━━━━━━━━━━━━━━━━━━\u001b[0m\u001b[37m\u001b[0m \u001b[1m31s\u001b[0m 388ms/step - loss: 0.0025 - mean_absolute_error: 0.0359\n",
      "Epoch 88/100\n",
      "\u001b[1m78/78\u001b[0m \u001b[32m━━━━━━━━━━━━━━━━━━━━\u001b[0m\u001b[37m\u001b[0m \u001b[1m41s\u001b[0m 390ms/step - loss: 0.0022 - mean_absolute_error: 0.0335\n",
      "Epoch 89/100\n",
      "\u001b[1m78/78\u001b[0m \u001b[32m━━━━━━━━━━━━━━━━━━━━\u001b[0m\u001b[37m\u001b[0m \u001b[1m26s\u001b[0m 329ms/step - loss: 0.0023 - mean_absolute_error: 0.0336\n",
      "Epoch 90/100\n",
      "\u001b[1m78/78\u001b[0m \u001b[32m━━━━━━━━━━━━━━━━━━━━\u001b[0m\u001b[37m\u001b[0m \u001b[1m49s\u001b[0m 425ms/step - loss: 0.0023 - mean_absolute_error: 0.0339\n",
      "Epoch 91/100\n",
      "\u001b[1m78/78\u001b[0m \u001b[32m━━━━━━━━━━━━━━━━━━━━\u001b[0m\u001b[37m\u001b[0m \u001b[1m31s\u001b[0m 296ms/step - loss: 0.0024 - mean_absolute_error: 0.0347\n",
      "Epoch 92/100\n",
      "\u001b[1m78/78\u001b[0m \u001b[32m━━━━━━━━━━━━━━━━━━━━\u001b[0m\u001b[37m\u001b[0m \u001b[1m56s\u001b[0m 481ms/step - loss: 0.0022 - mean_absolute_error: 0.0334\n",
      "Epoch 93/100\n",
      "\u001b[1m78/78\u001b[0m \u001b[32m━━━━━━━━━━━━━━━━━━━━\u001b[0m\u001b[37m\u001b[0m \u001b[1m41s\u001b[0m 525ms/step - loss: 0.0022 - mean_absolute_error: 0.0331\n",
      "Epoch 94/100\n",
      "\u001b[1m78/78\u001b[0m \u001b[32m━━━━━━━━━━━━━━━━━━━━\u001b[0m\u001b[37m\u001b[0m \u001b[1m38s\u001b[0m 482ms/step - loss: 0.0022 - mean_absolute_error: 0.0338\n",
      "Epoch 95/100\n",
      "\u001b[1m78/78\u001b[0m \u001b[32m━━━━━━━━━━━━━━━━━━━━\u001b[0m\u001b[37m\u001b[0m \u001b[1m39s\u001b[0m 494ms/step - loss: 0.0025 - mean_absolute_error: 0.0358\n",
      "Epoch 96/100\n",
      "\u001b[1m78/78\u001b[0m \u001b[32m━━━━━━━━━━━━━━━━━━━━\u001b[0m\u001b[37m\u001b[0m \u001b[1m40s\u001b[0m 474ms/step - loss: 0.0027 - mean_absolute_error: 0.0370\n",
      "Epoch 97/100\n",
      "\u001b[1m78/78\u001b[0m \u001b[32m━━━━━━━━━━━━━━━━━━━━\u001b[0m\u001b[37m\u001b[0m \u001b[1m41s\u001b[0m 463ms/step - loss: 0.0022 - mean_absolute_error: 0.0332\n",
      "Epoch 98/100\n",
      "\u001b[1m78/78\u001b[0m \u001b[32m━━━━━━━━━━━━━━━━━━━━\u001b[0m\u001b[37m\u001b[0m \u001b[1m40s\u001b[0m 445ms/step - loss: 0.0024 - mean_absolute_error: 0.0348\n",
      "Epoch 99/100\n",
      "\u001b[1m78/78\u001b[0m \u001b[32m━━━━━━━━━━━━━━━━━━━━\u001b[0m\u001b[37m\u001b[0m \u001b[1m28s\u001b[0m 276ms/step - loss: 0.0023 - mean_absolute_error: 0.0335\n",
      "Epoch 100/100\n",
      "\u001b[1m78/78\u001b[0m \u001b[32m━━━━━━━━━━━━━━━━━━━━\u001b[0m\u001b[37m\u001b[0m \u001b[1m20s\u001b[0m 253ms/step - loss: 0.0022 - mean_absolute_error: 0.0335\n"
     ]
    },
    {
     "data": {
      "text/plain": [
       "<keras.src.callbacks.history.History at 0x1fc5901f380>"
      ]
     },
     "execution_count": 27,
     "metadata": {},
     "output_type": "execute_result"
    }
   ],
   "source": [
    "import tensorflow as tf\n",
    "model.compile(optimizer = 'adam', loss = 'mean_squared_error', metrics=[tf.keras.metrics.MeanAbsoluteError()])\n",
    "model.fit(x_train, y_train,epochs = 100)"
   ]
  },
  {
   "cell_type": "code",
   "execution_count": null,
   "id": "zG1W6DhzI-hP",
   "metadata": {
    "id": "zG1W6DhzI-hP"
   },
   "outputs": [
    {
     "name": "stderr",
     "output_type": "stream",
     "text": [
      "WARNING:absl:You are saving your model as an HDF5 file via `model.save()` or `keras.saving.save_model(model)`. This file format is considered legacy. We recommend using instead the native Keras format, e.g. `model.save('my_model.keras')` or `keras.saving.save_model(model, 'my_model.keras')`. \n"
     ]
    }
   ],
   "source": [
    "model.save('keras_model.h5')"
   ]
  },
  {
   "cell_type": "code",
   "execution_count": null,
   "id": "khcKI1sSJSJB",
   "metadata": {
    "colab": {
     "base_uri": "https://localhost:8080/"
    },
    "id": "khcKI1sSJSJB",
    "outputId": "22c3f1bf-201a-4a60-ec6f-3be005f87ab1"
   },
   "outputs": [
    {
     "data": {
      "text/plain": [
       "(1101, 1)"
      ]
     },
     "execution_count": 29,
     "metadata": {},
     "output_type": "execute_result"
    }
   ],
   "source": [
    "test_close.shape"
   ]
  },
  {
   "cell_type": "code",
   "execution_count": null,
   "id": "6QyF-7KbKaGt",
   "metadata": {
    "id": "6QyF-7KbKaGt"
   },
   "outputs": [],
   "source": [
    "past_100_days = pd.DataFrame(train_close[-100:])"
   ]
  },
  {
   "cell_type": "code",
   "execution_count": null,
   "id": "pKsjLCyGLuOz",
   "metadata": {
    "id": "pKsjLCyGLuOz"
   },
   "outputs": [],
   "source": [
    "test_df = pd.DataFrame(test_close)"
   ]
  },
  {
   "cell_type": "markdown",
   "id": "d9ZKAzB8oKXJ",
   "metadata": {
    "id": "d9ZKAzB8oKXJ"
   },
   "source": [
    "**Defining the final dataset for testing by including last 100 coloums of the training dataset to get the prediction from the 1st column of the testing dataset.**\n",
    "\n",
    "---\n"
   ]
  },
  {
   "cell_type": "code",
   "execution_count": null,
   "id": "UUapqTcVLOj-",
   "metadata": {
    "colab": {
     "base_uri": "https://localhost:8080/"
    },
    "id": "UUapqTcVLOj-",
    "outputId": "0b06f215-d627-419d-8e78-461a857ccf4d"
   },
   "outputs": [],
   "source": [
    "final_df = pd.concat([past_100_days, test_df], ignore_index=True)"
   ]
  },
  {
   "cell_type": "code",
   "execution_count": null,
   "id": "L5gFYc1hMRjS",
   "metadata": {
    "colab": {
     "base_uri": "https://localhost:8080/",
     "height": 206
    },
    "id": "L5gFYc1hMRjS",
    "outputId": "200e81cd-e7d8-4d77-d727-6d5918b2e074"
   },
   "outputs": [
    {
     "data": {
      "text/html": [
       "<div>\n",
       "<style scoped>\n",
       "    .dataframe tbody tr th:only-of-type {\n",
       "        vertical-align: middle;\n",
       "    }\n",
       "\n",
       "    .dataframe tbody tr th {\n",
       "        vertical-align: top;\n",
       "    }\n",
       "\n",
       "    .dataframe thead th {\n",
       "        text-align: right;\n",
       "    }\n",
       "</style>\n",
       "<table border=\"1\" class=\"dataframe\">\n",
       "  <thead>\n",
       "    <tr style=\"text-align: right;\">\n",
       "      <th></th>\n",
       "      <th>0</th>\n",
       "    </tr>\n",
       "  </thead>\n",
       "  <tbody>\n",
       "    <tr>\n",
       "      <th>0</th>\n",
       "      <td>2210.000000</td>\n",
       "    </tr>\n",
       "    <tr>\n",
       "      <th>1</th>\n",
       "      <td>2208.000000</td>\n",
       "    </tr>\n",
       "    <tr>\n",
       "      <th>2</th>\n",
       "      <td>2184.699951</td>\n",
       "    </tr>\n",
       "    <tr>\n",
       "      <th>3</th>\n",
       "      <td>2195.000000</td>\n",
       "    </tr>\n",
       "    <tr>\n",
       "      <th>4</th>\n",
       "      <td>2194.199951</td>\n",
       "    </tr>\n",
       "  </tbody>\n",
       "</table>\n",
       "</div>"
      ],
      "text/plain": [
       "             0\n",
       "0  2210.000000\n",
       "1  2208.000000\n",
       "2  2184.699951\n",
       "3  2195.000000\n",
       "4  2194.199951"
      ]
     },
     "execution_count": 34,
     "metadata": {},
     "output_type": "execute_result"
    }
   ],
   "source": [
    "final_df.head()"
   ]
  },
  {
   "cell_type": "code",
   "execution_count": null,
   "id": "BU7BPmzvMZpZ",
   "metadata": {
    "colab": {
     "base_uri": "https://localhost:8080/"
    },
    "id": "BU7BPmzvMZpZ",
    "outputId": "385dad96-22ef-4fe8-8aea-0a5ce1a7f6a6"
   },
   "outputs": [
    {
     "data": {
      "text/plain": [
       "array([[0.23418552],\n",
       "       [0.23352017],\n",
       "       [0.22576886],\n",
       "       ...,\n",
       "       [0.86881016],\n",
       "       [0.88434608],\n",
       "       [0.87326795]])"
      ]
     },
     "execution_count": 35,
     "metadata": {},
     "output_type": "execute_result"
    }
   ],
   "source": [
    "input_data = scaler.fit_transform(final_df)\n",
    "input_data"
   ]
  },
  {
   "cell_type": "code",
   "execution_count": null,
   "id": "2E6k84TtMpvD",
   "metadata": {
    "colab": {
     "base_uri": "https://localhost:8080/"
    },
    "id": "2E6k84TtMpvD",
    "outputId": "06c0a3bb-bb78-49f3-d233-4ef1922d7a30"
   },
   "outputs": [
    {
     "data": {
      "text/plain": [
       "(1201, 1)"
      ]
     },
     "execution_count": 36,
     "metadata": {},
     "output_type": "execute_result"
    }
   ],
   "source": [
    "input_data.shape"
   ]
  },
  {
   "cell_type": "markdown",
   "id": "hJzkNc_To9li",
   "metadata": {
    "id": "hJzkNc_To9li"
   },
   "source": [
    "# Testing the model\n",
    "\n",
    "---\n",
    "\n"
   ]
  },
  {
   "cell_type": "code",
   "execution_count": null,
   "id": "d9xCof1CMwwh",
   "metadata": {
    "id": "d9xCof1CMwwh"
   },
   "outputs": [],
   "source": [
    "x_test = []\n",
    "y_test = []\n",
    "for i in range(100, input_data.shape[0]):\n",
    "   x_test.append(input_data[i-100: i])\n",
    "   y_test.append(input_data[i, 0])"
   ]
  },
  {
   "cell_type": "code",
   "execution_count": null,
   "id": "6MGDYZvrNUYc",
   "metadata": {
    "colab": {
     "base_uri": "https://localhost:8080/"
    },
    "id": "6MGDYZvrNUYc",
    "outputId": "4c699113-12cb-4065-b162-29e1761b96a4"
   },
   "outputs": [
    {
     "name": "stdout",
     "output_type": "stream",
     "text": [
      "(1101, 100, 1)\n",
      "(1101,)\n"
     ]
    }
   ],
   "source": [
    "x_test, y_test = np.array(x_test), np.array(y_test)\n",
    "print(x_test.shape)\n",
    "print(y_test.shape)"
   ]
  },
  {
   "cell_type": "markdown",
   "id": "PjvHSsrYpFBG",
   "metadata": {
    "id": "PjvHSsrYpFBG"
   },
   "source": [
    "# Making prediction and plotting the graph of predicted vs actual values\n",
    "\n",
    "---\n",
    "\n"
   ]
  },
  {
   "cell_type": "code",
   "execution_count": null,
   "id": "GLMExu7NNdmA",
   "metadata": {
    "colab": {
     "base_uri": "https://localhost:8080/"
    },
    "id": "GLMExu7NNdmA",
    "outputId": "e415e6ce-3846-4044-e1a3-a1f7b17e10e0"
   },
   "outputs": [
    {
     "name": "stdout",
     "output_type": "stream",
     "text": [
      "\u001b[1m35/35\u001b[0m \u001b[32m━━━━━━━━━━━━━━━━━━━━\u001b[0m\u001b[37m\u001b[0m \u001b[1m7s\u001b[0m 152ms/step\n"
     ]
    }
   ],
   "source": [
    "# Making predictions\n",
    "\n",
    "y_pred = model.predict(x_test)"
   ]
  },
  {
   "cell_type": "code",
   "execution_count": null,
   "id": "wAmVS__yNu-A",
   "metadata": {
    "colab": {
     "base_uri": "https://localhost:8080/"
    },
    "id": "wAmVS__yNu-A",
    "outputId": "a7d117ba-f92d-4be6-d813-47147ab5cd1c"
   },
   "outputs": [
    {
     "data": {
      "text/plain": [
       "(1101, 1)"
      ]
     },
     "execution_count": 40,
     "metadata": {},
     "output_type": "execute_result"
    }
   ],
   "source": [
    "y_pred.shape"
   ]
  },
  {
   "cell_type": "code",
   "execution_count": null,
   "id": "HFhTH-1aNyqt",
   "metadata": {
    "colab": {
     "base_uri": "https://localhost:8080/"
    },
    "id": "HFhTH-1aNyqt",
    "outputId": "0e288060-20c6-46e6-bae7-93bb208f67ec"
   },
   "outputs": [
    {
     "data": {
      "text/plain": [
       "array([0.18436766, 0.18877558, 0.18488332, ..., 0.86881016, 0.88434608,\n",
       "       0.87326795])"
      ]
     },
     "execution_count": 41,
     "metadata": {},
     "output_type": "execute_result"
    }
   ],
   "source": [
    "y_test"
   ]
  },
  {
   "cell_type": "code",
   "execution_count": null,
   "id": "WDIHSvbHN1vk",
   "metadata": {
    "colab": {
     "base_uri": "https://localhost:8080/"
    },
    "id": "WDIHSvbHN1vk",
    "outputId": "7f0459a8-b46e-4383-bd33-1af9f49a0211"
   },
   "outputs": [
    {
     "data": {
      "text/plain": [
       "array([[0.19887449],\n",
       "       [0.20195153],\n",
       "       [0.20516239],\n",
       "       ...,\n",
       "       [0.7878517 ],\n",
       "       [0.7978147 ],\n",
       "       [0.80965054]], dtype=float32)"
      ]
     },
     "execution_count": 42,
     "metadata": {},
     "output_type": "execute_result"
    }
   ],
   "source": [
    "y_pred"
   ]
  },
  {
   "cell_type": "code",
   "execution_count": null,
   "id": "QMFgAgL5N6HX",
   "metadata": {
    "colab": {
     "base_uri": "https://localhost:8080/"
    },
    "id": "QMFgAgL5N6HX",
    "outputId": "ea7365cc-518f-4580-d114-1804855d66a4"
   },
   "outputs": [
    {
     "data": {
      "text/plain": [
       "array([0.00033267])"
      ]
     },
     "execution_count": 43,
     "metadata": {},
     "output_type": "execute_result"
    }
   ],
   "source": [
    "scaler.scale_"
   ]
  },
  {
   "cell_type": "code",
   "execution_count": null,
   "id": "tPcp9BKLN-Y8",
   "metadata": {
    "id": "tPcp9BKLN-Y8"
   },
   "outputs": [],
   "source": [
    "scale_factor = 1/0.00041967\n",
    "y_pred = y_pred * scale_factor\n",
    "y_test = y_test * scale_factor"
   ]
  },
  {
   "cell_type": "code",
   "execution_count": null,
   "id": "phumyMZUOPp_",
   "metadata": {
    "colab": {
     "base_uri": "https://localhost:8080/",
     "height": 542
    },
    "id": "phumyMZUOPp_",
    "outputId": "eba0f77b-fe47-431e-cbf8-49a103e127ab"
   },
   "outputs": [
    {
     "data": {
      "image/png": "[encoded data removed]",
      "text/plain": [
       "<Figure size 1200x600 with 1 Axes>"
      ]
     },
     "metadata": {},
     "output_type": "display_data"
    }
   ],
   "source": [
    "plt.figure(figsize = (12,6))\n",
    "plt.plot(y_test, 'b', label = \"Original Price\")\n",
    "plt.plot(y_pred, 'r', label = \"Predicted Price\")\n",
    "plt.xlabel('Time')\n",
    "plt.ylabel('Price')\n",
    "plt.legend()\n",
    "plt.grid(True)\n",
    "plt.show()"
   ]
  },
  {
   "cell_type": "markdown",
   "id": "m54ljCJrpShP",
   "metadata": {
    "id": "m54ljCJrpShP"
   },
   "source": [
    "# Model evaluation"
   ]
  },
  {
   "cell_type": "markdown",
   "id": "BdnuOyYQRKRP",
   "metadata": {
    "id": "BdnuOyYQRKRP"
   },
   "source": [
    "Calculation of mean absolute error"
   ]
  },
  {
   "cell_type": "code",
   "execution_count": null,
   "id": "Yx6JWOKcX3Yo",
   "metadata": {
    "colab": {
     "base_uri": "https://localhost:8080/"
    },
    "id": "Yx6JWOKcX3Yo",
    "outputId": "74caad7d-81e9-4866-c771-3e6beccb39d8"
   },
   "outputs": [
    {
     "name": "stdout",
     "output_type": "stream",
     "text": [
      "Mean absolute error on test set: 5.02%\n"
     ]
    }
   ],
   "source": [
    "from sklearn.metrics import mean_absolute_error\n",
    "\n",
    "mae = mean_absolute_error(y_test, y_pred)\n",
    "mae_percentage = (mae / np.mean(y_test)) * 100\n",
    "print(\"Mean absolute error on test set: {:.2f}%\".format(mae_percentage))"
   ]
  },
  {
   "cell_type": "markdown",
   "id": "M8XnY8cuQIc2",
   "metadata": {
    "id": "M8XnY8cuQIc2"
   },
   "source": [
    "Calculation of R2 score"
   ]
  },
  {
   "cell_type": "code",
   "execution_count": null,
   "id": "GAAyLdoMNTwZ",
   "metadata": {
    "colab": {
     "base_uri": "https://localhost:8080/"
    },
    "id": "GAAyLdoMNTwZ",
    "outputId": "58c4c588-24d4-49bf-83ac-5a615a631c2e"
   },
   "outputs": [
    {
     "name": "stdout",
     "output_type": "stream",
     "text": [
      "R2 score: 0.949318297853876\n"
     ]
    }
   ],
   "source": [
    "from sklearn.metrics import r2_score\n",
    "\n",
    "# Actual values\n",
    "actual = y_test\n",
    "\n",
    "# Predicted values\n",
    "predicted = y_pred\n",
    "\n",
    "# Calculate the R2 score\n",
    "r2 = r2_score(actual, predicted)\n",
    "\n",
    "print(\"R2 score:\", r2)"
   ]
  },
  {
   "cell_type": "code",
   "execution_count": null,
   "id": "vQGgW50tNtMf",
   "metadata": {
    "colab": {
     "base_uri": "https://localhost:8080/",
     "height": 472
    },
    "id": "vQGgW50tNtMf",
    "outputId": "94767ec4-b582-409b-ea5d-2d5659997e8c"
   },
   "outputs": [
    {
     "data": {
      "image/png": "[encoded data removed]",
      "text/plain": [
       "<Figure size 640x480 with 1 Axes>"
      ]
     },
     "metadata": {},
     "output_type": "display_data"
    }
   ],
   "source": [
    "# Plotting the R2 score\n",
    "fig, ax = plt.subplots()\n",
    "ax.barh(0, r2, color='skyblue')\n",
    "ax.set_xlim([-1, 1])\n",
    "ax.set_yticks([])\n",
    "ax.set_xlabel('R2 Score')\n",
    "ax.set_title('R2 Score')\n",
    "\n",
    "# Adding the R2 score value on the bar\n",
    "ax.text(r2, 0, f'{r2:.2f}', va='center', color='black')\n",
    "\n",
    "plt.show()"
   ]
  },
  {
   "cell_type": "code",
   "execution_count": null,
   "id": "Q8RHQ80hPfi4",
   "metadata": {
    "colab": {
     "base_uri": "https://localhost:8080/",
     "height": 472
    },
    "id": "Q8RHQ80hPfi4",
    "outputId": "a1b81f5b-e56b-4f29-886c-e53f7e6f2bcb"
   },
   "outputs": [
    {
     "data": {
      "image/png": "[encoded data removed]",
      "text/plain": [
       "<Figure size 640x480 with 1 Axes>"
      ]
     },
     "metadata": {},
     "output_type": "display_data"
    }
   ],
   "source": [
    "plt.scatter(actual, predicted)\n",
    "plt.plot([min(actual), max(actual)], [min(predicted), max(predicted)], 'r--')\n",
    "plt.xlabel('Actual Values')\n",
    "plt.ylabel('Predicted Values')\n",
    "plt.title(f'R2 Score: {r2:.2f}')\n",
    "plt.show()"
   ]
  },
  {
   "cell_type": "code",
   "execution_count": 57,
   "id": "9c0c6dce",
   "metadata": {},
   "outputs": [
    {
     "name": "stdout",
     "output_type": "stream",
     "text": [
      "Collecting xgboost\n",
      "  Downloading xgboost-2.1.2-py3-none-win_amd64.whl.metadata (2.1 kB)\n",
      "Requirement already satisfied: numpy in c:\\users\\sanut\\appdata\\roaming\\python\\python312\\site-packages (from xgboost) (1.26.4)\n",
      "Requirement already satisfied: scipy in c:\\users\\sanut\\appdata\\roaming\\python\\python312\\site-packages (from xgboost) (1.14.1)\n",
      "Downloading xgboost-2.1.2-py3-none-win_amd64.whl (124.9 MB)\n",
      "   ---------------------------------------- 0.0/124.9 MB ? eta -:--:--\n",
      "   ---------------------------------------- 0.8/124.9 MB 4.2 MB/s eta 0:00:30\n",
      "    --------------------------------------- 1.8/124.9 MB 4.2 MB/s eta 0:00:30\n",
      "    --------------------------------------- 2.9/124.9 MB 4.3 MB/s eta 0:00:29\n",
      "   - -------------------------------------- 3.9/124.9 MB 4.4 MB/s eta 0:00:28\n",
      "   - -------------------------------------- 5.0/124.9 MB 4.6 MB/s eta 0:00:27\n",
      "   - -------------------------------------- 6.0/124.9 MB 4.6 MB/s eta 0:00:26\n",
      "   -- ------------------------------------- 7.1/124.9 MB 4.7 MB/s eta 0:00:26\n",
      "   -- ------------------------------------- 8.4/124.9 MB 4.8 MB/s eta 0:00:25\n",
      "   --- ------------------------------------ 9.4/124.9 MB 4.8 MB/s eta 0:00:25\n",
      "   --- ------------------------------------ 10.5/124.9 MB 4.8 MB/s eta 0:00:24\n",
      "   --- ------------------------------------ 11.5/124.9 MB 4.8 MB/s eta 0:00:24\n",
      "   ---- ----------------------------------- 12.6/124.9 MB 4.8 MB/s eta 0:00:24\n",
      "   ---- ----------------------------------- 13.6/124.9 MB 4.9 MB/s eta 0:00:23\n",
      "   ---- ----------------------------------- 14.7/124.9 MB 4.8 MB/s eta 0:00:23\n",
      "   ----- ---------------------------------- 15.7/124.9 MB 4.9 MB/s eta 0:00:23\n",
      "   ----- ---------------------------------- 17.0/124.9 MB 4.9 MB/s eta 0:00:23\n",
      "   ----- ---------------------------------- 18.1/124.9 MB 4.9 MB/s eta 0:00:22\n",
      "   ------ --------------------------------- 19.1/124.9 MB 4.9 MB/s eta 0:00:22\n",
      "   ------ --------------------------------- 20.4/124.9 MB 5.0 MB/s eta 0:00:22\n",
      "   ------ --------------------------------- 21.8/124.9 MB 5.0 MB/s eta 0:00:21\n",
      "   ------- -------------------------------- 22.8/124.9 MB 5.0 MB/s eta 0:00:21\n",
      "   ------- -------------------------------- 24.1/124.9 MB 5.0 MB/s eta 0:00:21\n",
      "   -------- ------------------------------- 25.2/124.9 MB 5.0 MB/s eta 0:00:20\n",
      "   -------- ------------------------------- 26.2/124.9 MB 5.0 MB/s eta 0:00:20\n",
      "   -------- ------------------------------- 27.5/124.9 MB 5.0 MB/s eta 0:00:20\n",
      "   --------- ------------------------------ 28.3/124.9 MB 5.1 MB/s eta 0:00:20\n",
      "   --------- ------------------------------ 29.6/124.9 MB 5.1 MB/s eta 0:00:19\n",
      "   --------- ------------------------------ 30.7/124.9 MB 5.1 MB/s eta 0:00:19\n",
      "   ---------- ----------------------------- 31.7/124.9 MB 5.0 MB/s eta 0:00:19\n",
      "   ---------- ----------------------------- 32.8/124.9 MB 5.0 MB/s eta 0:00:19\n",
      "   ---------- ----------------------------- 33.8/124.9 MB 5.0 MB/s eta 0:00:19\n",
      "   ----------- ---------------------------- 35.1/124.9 MB 5.0 MB/s eta 0:00:18\n",
      "   ----------- ---------------------------- 36.4/124.9 MB 5.1 MB/s eta 0:00:18\n",
      "   ------------ --------------------------- 37.5/124.9 MB 5.1 MB/s eta 0:00:18\n",
      "   ------------ --------------------------- 38.3/124.9 MB 5.0 MB/s eta 0:00:18\n",
      "   ------------ --------------------------- 39.6/124.9 MB 5.1 MB/s eta 0:00:17\n",
      "   ------------- -------------------------- 40.6/124.9 MB 5.1 MB/s eta 0:00:17\n",
      "   ------------- -------------------------- 41.7/124.9 MB 5.1 MB/s eta 0:00:17\n",
      "   ------------- -------------------------- 43.0/124.9 MB 5.1 MB/s eta 0:00:17\n",
      "   -------------- ------------------------- 44.0/124.9 MB 5.1 MB/s eta 0:00:16\n",
      "   -------------- ------------------------- 45.1/124.9 MB 5.1 MB/s eta 0:00:16\n",
      "   -------------- ------------------------- 46.4/124.9 MB 5.1 MB/s eta 0:00:16\n",
      "   --------------- ------------------------ 47.4/124.9 MB 5.1 MB/s eta 0:00:16\n",
      "   --------------- ------------------------ 48.5/124.9 MB 5.1 MB/s eta 0:00:16\n",
      "   --------------- ------------------------ 49.5/124.9 MB 5.1 MB/s eta 0:00:15\n",
      "   ---------------- ----------------------- 50.6/124.9 MB 5.1 MB/s eta 0:00:15\n",
      "   ---------------- ----------------------- 50.9/124.9 MB 5.0 MB/s eta 0:00:15\n",
      "   ---------------- ----------------------- 51.6/124.9 MB 5.0 MB/s eta 0:00:15\n",
      "   ---------------- ----------------------- 52.4/124.9 MB 4.9 MB/s eta 0:00:15\n",
      "   ----------------- ---------------------- 53.2/124.9 MB 4.9 MB/s eta 0:00:15\n",
      "   ----------------- ---------------------- 54.3/124.9 MB 4.9 MB/s eta 0:00:15\n",
      "   ----------------- ---------------------- 55.3/124.9 MB 4.9 MB/s eta 0:00:15\n",
      "   ------------------ --------------------- 56.4/124.9 MB 4.9 MB/s eta 0:00:14\n",
      "   ------------------ --------------------- 57.4/124.9 MB 4.9 MB/s eta 0:00:14\n",
      "   ------------------ --------------------- 58.5/124.9 MB 4.9 MB/s eta 0:00:14\n",
      "   ------------------- -------------------- 59.5/124.9 MB 4.9 MB/s eta 0:00:14\n",
      "   ------------------- -------------------- 60.3/124.9 MB 4.9 MB/s eta 0:00:14\n",
      "   ------------------- -------------------- 61.3/124.9 MB 4.9 MB/s eta 0:00:13\n",
      "   ------------------- -------------------- 62.4/124.9 MB 4.9 MB/s eta 0:00:13\n",
      "   -------------------- ------------------- 63.4/124.9 MB 4.9 MB/s eta 0:00:13\n",
      "   -------------------- ------------------- 64.5/124.9 MB 4.9 MB/s eta 0:00:13\n",
      "   --------------------- ------------------ 65.8/124.9 MB 4.9 MB/s eta 0:00:13\n",
      "   --------------------- ------------------ 66.8/124.9 MB 4.9 MB/s eta 0:00:12\n",
      "   --------------------- ------------------ 67.9/124.9 MB 4.9 MB/s eta 0:00:12\n",
      "   ---------------------- ----------------- 69.2/124.9 MB 4.9 MB/s eta 0:00:12\n",
      "   ---------------------- ----------------- 70.3/124.9 MB 4.9 MB/s eta 0:00:12\n",
      "   ---------------------- ----------------- 71.3/124.9 MB 4.9 MB/s eta 0:00:11\n",
      "   ----------------------- ---------------- 72.4/124.9 MB 4.9 MB/s eta 0:00:11\n",
      "   ----------------------- ---------------- 73.7/124.9 MB 4.9 MB/s eta 0:00:11\n",
      "   ----------------------- ---------------- 74.4/124.9 MB 4.9 MB/s eta 0:00:11\n",
      "   ------------------------ --------------- 75.8/124.9 MB 4.9 MB/s eta 0:00:10\n",
      "   ------------------------ --------------- 76.8/124.9 MB 4.9 MB/s eta 0:00:10\n",
      "   ------------------------ --------------- 77.9/124.9 MB 5.0 MB/s eta 0:00:10\n",
      "   ------------------------- -------------- 78.9/124.9 MB 4.9 MB/s eta 0:00:10\n",
      "   ------------------------- -------------- 80.0/124.9 MB 4.9 MB/s eta 0:00:10\n",
      "   ------------------------- -------------- 81.0/124.9 MB 4.9 MB/s eta 0:00:09\n",
      "   -------------------------- ------------- 82.1/124.9 MB 4.9 MB/s eta 0:00:09\n",
      "   -------------------------- ------------- 83.4/124.9 MB 4.9 MB/s eta 0:00:09\n",
      "   --------------------------- ------------ 84.4/124.9 MB 4.9 MB/s eta 0:00:09\n",
      "   --------------------------- ------------ 85.5/124.9 MB 4.9 MB/s eta 0:00:08\n",
      "   --------------------------- ------------ 86.8/124.9 MB 5.0 MB/s eta 0:00:08\n",
      "   ---------------------------- ----------- 87.6/124.9 MB 4.9 MB/s eta 0:00:08\n",
      "   ---------------------------- ----------- 88.6/124.9 MB 4.9 MB/s eta 0:00:08\n",
      "   ---------------------------- ----------- 89.7/124.9 MB 4.9 MB/s eta 0:00:08\n",
      "   ----------------------------- ---------- 90.7/124.9 MB 4.9 MB/s eta 0:00:07\n",
      "   ----------------------------- ---------- 91.8/124.9 MB 4.9 MB/s eta 0:00:07\n",
      "   ----------------------------- ---------- 92.8/124.9 MB 4.9 MB/s eta 0:00:07\n",
      "   ------------------------------ --------- 94.1/124.9 MB 4.9 MB/s eta 0:00:07\n",
      "   ------------------------------ --------- 95.2/124.9 MB 4.9 MB/s eta 0:00:07\n",
      "   ------------------------------ --------- 96.2/124.9 MB 4.9 MB/s eta 0:00:06\n",
      "   ------------------------------- -------- 97.3/124.9 MB 4.9 MB/s eta 0:00:06\n",
      "   ------------------------------- -------- 98.3/124.9 MB 4.9 MB/s eta 0:00:06\n",
      "   ------------------------------- -------- 99.6/124.9 MB 4.9 MB/s eta 0:00:06\n",
      "   -------------------------------- ------- 100.4/124.9 MB 4.9 MB/s eta 0:00:05\n",
      "   -------------------------------- ------- 101.7/124.9 MB 4.9 MB/s eta 0:00:05\n",
      "   -------------------------------- ------- 102.8/124.9 MB 5.0 MB/s eta 0:00:05\n",
      "   --------------------------------- ------ 103.8/124.9 MB 4.9 MB/s eta 0:00:05\n",
      "   --------------------------------- ------ 104.9/124.9 MB 5.0 MB/s eta 0:00:05\n",
      "   --------------------------------- ------ 105.9/124.9 MB 5.0 MB/s eta 0:00:04\n",
      "   ---------------------------------- ----- 107.0/124.9 MB 5.0 MB/s eta 0:00:04\n",
      "   ---------------------------------- ----- 108.0/124.9 MB 5.0 MB/s eta 0:00:04\n",
      "   ---------------------------------- ----- 109.1/124.9 MB 5.0 MB/s eta 0:00:04\n",
      "   ----------------------------------- ---- 110.4/124.9 MB 5.0 MB/s eta 0:00:03\n",
      "   ----------------------------------- ---- 111.4/124.9 MB 5.0 MB/s eta 0:00:03\n",
      "   ------------------------------------ --- 112.5/124.9 MB 5.0 MB/s eta 0:00:03\n",
      "   ------------------------------------ --- 113.5/124.9 MB 5.0 MB/s eta 0:00:03\n",
      "   ------------------------------------ --- 114.6/124.9 MB 5.0 MB/s eta 0:00:03\n",
      "   ------------------------------------- -- 115.9/124.9 MB 5.0 MB/s eta 0:00:02\n",
      "   ------------------------------------- -- 116.9/124.9 MB 5.0 MB/s eta 0:00:02\n",
      "   ------------------------------------- -- 118.0/124.9 MB 5.0 MB/s eta 0:00:02\n",
      "   -------------------------------------- - 119.3/124.9 MB 5.0 MB/s eta 0:00:02\n",
      "   -------------------------------------- - 120.3/124.9 MB 5.0 MB/s eta 0:00:01\n",
      "   -------------------------------------- - 121.4/124.9 MB 5.0 MB/s eta 0:00:01\n",
      "   ---------------------------------------  122.7/124.9 MB 5.0 MB/s eta 0:00:01\n",
      "   ---------------------------------------  123.7/124.9 MB 5.0 MB/s eta 0:00:01\n",
      "   ---------------------------------------  124.8/124.9 MB 5.0 MB/s eta 0:00:01\n",
      "   ---------------------------------------  124.8/124.9 MB 5.0 MB/s eta 0:00:01\n",
      "   ---------------------------------------  124.8/124.9 MB 5.0 MB/s eta 0:00:01\n",
      "   ---------------------------------------- 124.9/124.9 MB 4.9 MB/s eta 0:00:00\n",
      "Installing collected packages: xgboost\n",
      "Successfully installed xgboost-2.1.2\n",
      "Note: you may need to restart the kernel to use updated packages.\n"
     ]
    },
    {
     "name": "stderr",
     "output_type": "stream",
     "text": [
      "\n",
      "[notice] A new release of pip is available: 24.2 -> 24.3.1\n",
      "[notice] To update, run: python.exe -m pip install --upgrade pip\n"
     ]
    }
   ],
   "source": [
    "pip install xgboost"
   ]
  },
  {
   "cell_type": "code",
   "execution_count": 63,
   "id": "5c69ad85",
   "metadata": {},
   "outputs": [
    {
     "ename": "AttributeError",
     "evalue": "'list' object has no attribute 'reshape'",
     "output_type": "error",
     "traceback": [
      "\u001b[1;31m---------------------------------------------------------------------------\u001b[0m",
      "\u001b[1;31mAttributeError\u001b[0m                            Traceback (most recent call last)",
      "Cell \u001b[1;32mIn[63], line 3\u001b[0m\n\u001b[0;32m      1\u001b[0m \u001b[38;5;66;03m# Flatten x_train and x_test to fit the XGBoost format\u001b[39;00m\n\u001b[0;32m      2\u001b[0m X_train \u001b[38;5;241m=\u001b[39m x_train\u001b[38;5;241m.\u001b[39mreshape(x_train\u001b[38;5;241m.\u001b[39mshape[\u001b[38;5;241m0\u001b[39m], \u001b[38;5;241m-\u001b[39m\u001b[38;5;241m1\u001b[39m)  \u001b[38;5;66;03m# Reshape to (n_samples, 100)\u001b[39;00m\n\u001b[1;32m----> 3\u001b[0m X_test \u001b[38;5;241m=\u001b[39m x_test\u001b[38;5;241m.\u001b[39mreshape(x_test\u001b[38;5;241m.\u001b[39mshape[\u001b[38;5;241m0\u001b[39m], \u001b[38;5;241m-\u001b[39m\u001b[38;5;241m1\u001b[39m)     \u001b[38;5;66;03m# Reshape to (n_samples, 100)\u001b[39;00m\n\u001b[0;32m      5\u001b[0m Y_train \u001b[38;5;241m=\u001b[39m y_train  \u001b[38;5;66;03m# Target remains the same for training\u001b[39;00m\n\u001b[0;32m      6\u001b[0m Y_test \u001b[38;5;241m=\u001b[39m y_test\n",
      "\u001b[1;31mAttributeError\u001b[0m: 'list' object has no attribute 'reshape'"
     ]
    }
   ],
   "source": [
    "# Flatten x_train and x_test to fit the XGBoost format\n",
    "X_train = x_train.reshape(x_train.shape[0], -1)  # Reshape to (n_samples, 100)\n",
    "X_test = x_test.reshape(x_test.shape[0], -1)     # Reshape to (n_samples, 100)\n",
    "\n",
    "Y_train = y_train  # Target remains the same for training\n",
    "Y_test = y_test    # Target remains the same for testing\n"
   ]
  },
  {
   "cell_type": "code",
   "execution_count": null,
   "id": "8fadeb9a",
   "metadata": {},
   "outputs": [],
   "source": []
  }
 ],
 "metadata": {
  "accelerator": "GPU",
  "colab": {
   "include_colab_link": true,
   "provenance": []
  },
  "gpuClass": "standard",
  "kernelspec": {
   "display_name": "base",
   "language": "python",
   "name": "python3"
  },
  "language_info": {
   "codemirror_mode": {
    "name": "ipython",
    "version": 3
   },
   "file_extension": ".py",
   "mimetype": "text/x-python",
   "name": "python",
   "nbconvert_exporter": "python",
   "pygments_lexer": "ipython3",
   "version": "3.12.7"
  }
 },
 "nbformat": 4,
 "nbformat_minor": 5
}
